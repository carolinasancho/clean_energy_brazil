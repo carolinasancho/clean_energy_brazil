{
 "cells": [
  {
   "cell_type": "markdown",
   "id": "314d3d1a",
   "metadata": {},
   "source": [
    "## Time Series Analysis Forecast"
   ]
  },
  {
   "cell_type": "code",
   "execution_count": 1,
   "id": "e114d235",
   "metadata": {},
   "outputs": [],
   "source": [
    "import pandas as pd\n",
    "import numpy as np\n",
    "import matplotlib.pyplot as plt\n",
    "%matplotlib inline\n",
    "import seaborn as sns\n",
    "from matplotlib import pyplot\n",
    "import datetime\n",
    "from sklearn.metrics import mean_squared_error"
   ]
  },
  {
   "cell_type": "code",
   "execution_count": 2,
   "id": "bd24a4ba",
   "metadata": {},
   "outputs": [],
   "source": [
    "#finding the best model that fits better all data points, as the preparation for the prediction in the final part"
   ]
  },
  {
   "cell_type": "code",
   "execution_count": 3,
   "id": "9474ca68",
   "metadata": {},
   "outputs": [],
   "source": [
    "dfback = pd.read_csv('dfcleanenergy.csv',sep=';')\n",
    "dfback = dfback[['date', 'val_capacidadeinstalada']]\n",
    "dfback['date'] =  pd.to_datetime(dfback['date'], format='%Y-%m-%d')"
   ]
  },
  {
   "cell_type": "code",
   "execution_count": 4,
   "id": "13c0b3d5",
   "metadata": {},
   "outputs": [],
   "source": [
    "df = pd.read_csv('dfcleanenergy.csv',sep=';')"
   ]
  },
  {
   "cell_type": "code",
   "execution_count": 5,
   "id": "2c4762eb",
   "metadata": {},
   "outputs": [],
   "source": [
    "df = df[['date', 'val_capacidadeinstalada']]"
   ]
  },
  {
   "cell_type": "code",
   "execution_count": 6,
   "id": "30a2d12d",
   "metadata": {},
   "outputs": [],
   "source": [
    "df['date'] =  pd.to_datetime(df['date'], format='%Y-%m-%d')"
   ]
  },
  {
   "cell_type": "code",
   "execution_count": 7,
   "id": "6f7b1f01",
   "metadata": {},
   "outputs": [
    {
     "data": {
      "text/html": [
       "<div>\n",
       "<style scoped>\n",
       "    .dataframe tbody tr th:only-of-type {\n",
       "        vertical-align: middle;\n",
       "    }\n",
       "\n",
       "    .dataframe tbody tr th {\n",
       "        vertical-align: top;\n",
       "    }\n",
       "\n",
       "    .dataframe thead th {\n",
       "        text-align: right;\n",
       "    }\n",
       "</style>\n",
       "<table border=\"1\" class=\"dataframe\">\n",
       "  <thead>\n",
       "    <tr style=\"text-align: right;\">\n",
       "      <th></th>\n",
       "      <th>date</th>\n",
       "      <th>val_capacidadeinstalada</th>\n",
       "    </tr>\n",
       "  </thead>\n",
       "  <tbody>\n",
       "    <tr>\n",
       "      <th>0</th>\n",
       "      <td>2012-01-01</td>\n",
       "      <td>348.90</td>\n",
       "    </tr>\n",
       "    <tr>\n",
       "      <th>1</th>\n",
       "      <td>2012-02-01</td>\n",
       "      <td>363.75</td>\n",
       "    </tr>\n",
       "    <tr>\n",
       "      <th>2</th>\n",
       "      <td>2012-03-01</td>\n",
       "      <td>363.75</td>\n",
       "    </tr>\n",
       "    <tr>\n",
       "      <th>3</th>\n",
       "      <td>2012-04-01</td>\n",
       "      <td>363.75</td>\n",
       "    </tr>\n",
       "    <tr>\n",
       "      <th>4</th>\n",
       "      <td>2012-05-01</td>\n",
       "      <td>363.75</td>\n",
       "    </tr>\n",
       "  </tbody>\n",
       "</table>\n",
       "</div>"
      ],
      "text/plain": [
       "        date  val_capacidadeinstalada\n",
       "0 2012-01-01                   348.90\n",
       "1 2012-02-01                   363.75\n",
       "2 2012-03-01                   363.75\n",
       "3 2012-04-01                   363.75\n",
       "4 2012-05-01                   363.75"
      ]
     },
     "execution_count": 7,
     "metadata": {},
     "output_type": "execute_result"
    }
   ],
   "source": [
    "df.head()"
   ]
  },
  {
   "cell_type": "code",
   "execution_count": 83,
   "id": "214854c9",
   "metadata": {},
   "outputs": [
    {
     "data": {
      "text/html": [
       "<div>\n",
       "<style scoped>\n",
       "    .dataframe tbody tr th:only-of-type {\n",
       "        vertical-align: middle;\n",
       "    }\n",
       "\n",
       "    .dataframe tbody tr th {\n",
       "        vertical-align: top;\n",
       "    }\n",
       "\n",
       "    .dataframe thead th {\n",
       "        text-align: right;\n",
       "    }\n",
       "</style>\n",
       "<table border=\"1\" class=\"dataframe\">\n",
       "  <thead>\n",
       "    <tr style=\"text-align: right;\">\n",
       "      <th></th>\n",
       "      <th>date</th>\n",
       "      <th>val_capacidadeinstalada</th>\n",
       "    </tr>\n",
       "  </thead>\n",
       "  <tbody>\n",
       "    <tr>\n",
       "      <th>121</th>\n",
       "      <td>2022-02-01</td>\n",
       "      <td>23737.757533</td>\n",
       "    </tr>\n",
       "    <tr>\n",
       "      <th>122</th>\n",
       "      <td>2022-03-01</td>\n",
       "      <td>24022.757533</td>\n",
       "    </tr>\n",
       "    <tr>\n",
       "      <th>123</th>\n",
       "      <td>2022-04-01</td>\n",
       "      <td>24143.001533</td>\n",
       "    </tr>\n",
       "    <tr>\n",
       "      <th>124</th>\n",
       "      <td>2022-05-01</td>\n",
       "      <td>24907.181533</td>\n",
       "    </tr>\n",
       "    <tr>\n",
       "      <th>125</th>\n",
       "      <td>2022-06-01</td>\n",
       "      <td>25201.581533</td>\n",
       "    </tr>\n",
       "  </tbody>\n",
       "</table>\n",
       "</div>"
      ],
      "text/plain": [
       "          date  val_capacidadeinstalada\n",
       "121 2022-02-01             23737.757533\n",
       "122 2022-03-01             24022.757533\n",
       "123 2022-04-01             24143.001533\n",
       "124 2022-05-01             24907.181533\n",
       "125 2022-06-01             25201.581533"
      ]
     },
     "execution_count": 83,
     "metadata": {},
     "output_type": "execute_result"
    }
   ],
   "source": [
    "df.tail(5)"
   ]
  },
  {
   "cell_type": "code",
   "execution_count": 9,
   "id": "b8675429",
   "metadata": {},
   "outputs": [
    {
     "data": {
      "text/plain": [
       "<matplotlib.collections.PathCollection at 0x20ebe1caac0>"
      ]
     },
     "execution_count": 9,
     "metadata": {},
     "output_type": "execute_result"
    },
    {
     "data": {
      "image/png": "[encoded data removed]",
      "text/plain": [
       "<Figure size 864x432 with 1 Axes>"
      ]
     },
     "metadata": {
      "needs_background": "light"
     },
     "output_type": "display_data"
    }
   ],
   "source": [
    "plt.figure(figsize=(12,6))\n",
    "plt.scatter(df.date, df.val_capacidadeinstalada, alpha=0.4)"
   ]
  },
  {
   "cell_type": "code",
   "execution_count": 10,
   "id": "82a7162a",
   "metadata": {},
   "outputs": [],
   "source": [
    "from sklearn.model_selection import train_test_split\n",
    "from sklearn.linear_model import LinearRegression"
   ]
  },
  {
   "cell_type": "code",
   "execution_count": 11,
   "id": "9778f24a",
   "metadata": {},
   "outputs": [],
   "source": [
    "#changing to month-year because we cant work with datetime type in linear regression"
   ]
  },
  {
   "cell_type": "code",
   "execution_count": 12,
   "id": "da0fcd65",
   "metadata": {},
   "outputs": [],
   "source": [
    "import datetime as dt\n",
    "df['date'] = pd.to_datetime(df['date'])\n",
    "df['date']=df['date'].map(dt.datetime.toordinal)"
   ]
  },
  {
   "cell_type": "code",
   "execution_count": 13,
   "id": "1b32a668",
   "metadata": {},
   "outputs": [
    {
     "data": {
      "text/plain": [
       "0      734503\n",
       "1      734534\n",
       "2      734563\n",
       "3      734594\n",
       "4      734624\n",
       "        ...  \n",
       "121    738187\n",
       "122    738215\n",
       "123    738246\n",
       "124    738276\n",
       "125    738307\n",
       "Name: date, Length: 126, dtype: int64"
      ]
     },
     "execution_count": 13,
     "metadata": {},
     "output_type": "execute_result"
    }
   ],
   "source": [
    "df.date"
   ]
  },
  {
   "cell_type": "code",
   "execution_count": 14,
   "id": "c3bbd4e8",
   "metadata": {},
   "outputs": [
    {
     "data": {
      "text/plain": [
       "<matplotlib.collections.PathCollection at 0x20ec04be850>"
      ]
     },
     "execution_count": 14,
     "metadata": {},
     "output_type": "execute_result"
    },
    {
     "data": {
      "image/png": "[encoded data removed]",
      "text/plain": [
       "<Figure size 864x432 with 1 Axes>"
      ]
     },
     "metadata": {
      "needs_background": "light"
     },
     "output_type": "display_data"
    }
   ],
   "source": [
    "plt.figure(figsize=(12,6))\n",
    "plt.scatter(df.date, df.val_capacidadeinstalada, alpha=0.4)"
   ]
  },
  {
   "cell_type": "code",
   "execution_count": 15,
   "id": "1d9a120b",
   "metadata": {},
   "outputs": [],
   "source": [
    "X = df[['date']]"
   ]
  },
  {
   "cell_type": "code",
   "execution_count": 16,
   "id": "e76c7ed9",
   "metadata": {},
   "outputs": [],
   "source": [
    "y = df[['val_capacidadeinstalada']]"
   ]
  },
  {
   "cell_type": "code",
   "execution_count": 17,
   "id": "b653cda2",
   "metadata": {},
   "outputs": [
    {
     "data": {
      "text/plain": [
       "LinearRegression()"
      ]
     },
     "execution_count": 17,
     "metadata": {},
     "output_type": "execute_result"
    }
   ],
   "source": [
    "model = LinearRegression()\n",
    "model.fit(X, y)"
   ]
  },
  {
   "cell_type": "code",
   "execution_count": 18,
   "id": "99efc8ba",
   "metadata": {},
   "outputs": [],
   "source": [
    "#new_values = pd.DataFrame([2025,2026,2027,2028,2029, 2030])"
   ]
  },
  {
   "cell_type": "code",
   "execution_count": 19,
   "id": "e794f6d0",
   "metadata": {},
   "outputs": [],
   "source": [
    "#model.predict(new_values)"
   ]
  },
  {
   "cell_type": "code",
   "execution_count": 20,
   "id": "4d95acab",
   "metadata": {},
   "outputs": [],
   "source": [
    "y_predict = model.predict(X)"
   ]
  },
  {
   "cell_type": "code",
   "execution_count": 21,
   "id": "39bcee99",
   "metadata": {},
   "outputs": [
    {
     "data": {
      "text/plain": [
       "array([[-3.16887743e+03],\n",
       "       [-2.95290275e+03],\n",
       "       [-2.75086192e+03],\n",
       "       [-2.53488724e+03],\n",
       "       [-2.32587948e+03],\n",
       "       [-2.10990480e+03],\n",
       "       [-1.90089704e+03],\n",
       "       [-1.68492236e+03],\n",
       "       [-1.46894767e+03],\n",
       "       [-1.25993992e+03],\n",
       "       [-1.04396523e+03],\n",
       "       [-8.34957478e+02],\n",
       "       [-6.18982795e+02],\n",
       "       [-4.03008113e+02],\n",
       "       [-2.07934206e+02],\n",
       "       [ 8.04047611e+00],\n",
       "       [ 2.17048233e+02],\n",
       "       [ 4.33022916e+02],\n",
       "       [ 6.42030673e+02],\n",
       "       [ 8.58005355e+02],\n",
       "       [ 1.07398004e+03],\n",
       "       [ 1.28298779e+03],\n",
       "       [ 1.49896248e+03],\n",
       "       [ 1.70797023e+03],\n",
       "       [ 1.92394492e+03],\n",
       "       [ 2.13991960e+03],\n",
       "       [ 2.33499351e+03],\n",
       "       [ 2.55096819e+03],\n",
       "       [ 2.75997594e+03],\n",
       "       [ 2.97595063e+03],\n",
       "       [ 3.18495838e+03],\n",
       "       [ 3.40093307e+03],\n",
       "       [ 3.61690775e+03],\n",
       "       [ 3.82591551e+03],\n",
       "       [ 4.04189019e+03],\n",
       "       [ 4.25089795e+03],\n",
       "       [ 4.46687263e+03],\n",
       "       [ 4.68284731e+03],\n",
       "       [ 4.87792122e+03],\n",
       "       [ 5.09389590e+03],\n",
       "       [ 5.30290366e+03],\n",
       "       [ 5.51887834e+03],\n",
       "       [ 5.72788610e+03],\n",
       "       [ 5.94386078e+03],\n",
       "       [ 6.15983546e+03],\n",
       "       [ 6.36884322e+03],\n",
       "       [ 6.58481790e+03],\n",
       "       [ 6.79382566e+03],\n",
       "       [ 7.00980034e+03],\n",
       "       [ 7.22577502e+03],\n",
       "       [ 7.42781585e+03],\n",
       "       [ 7.64379054e+03],\n",
       "       [ 7.85279829e+03],\n",
       "       [ 8.06877298e+03],\n",
       "       [ 8.27778073e+03],\n",
       "       [ 8.49375541e+03],\n",
       "       [ 8.70973010e+03],\n",
       "       [ 8.91873785e+03],\n",
       "       [ 9.13471254e+03],\n",
       "       [ 9.34372029e+03],\n",
       "       [ 9.55969498e+03],\n",
       "       [ 9.77566966e+03],\n",
       "       [ 9.97074356e+03],\n",
       "       [ 1.01867182e+04],\n",
       "       [ 1.03957260e+04],\n",
       "       [ 1.06117007e+04],\n",
       "       [ 1.08207084e+04],\n",
       "       [ 1.10366831e+04],\n",
       "       [ 1.12526578e+04],\n",
       "       [ 1.14616656e+04],\n",
       "       [ 1.16776402e+04],\n",
       "       [ 1.18866480e+04],\n",
       "       [ 1.21026227e+04],\n",
       "       [ 1.23185974e+04],\n",
       "       [ 1.25136713e+04],\n",
       "       [ 1.27296460e+04],\n",
       "       [ 1.29386537e+04],\n",
       "       [ 1.31546284e+04],\n",
       "       [ 1.33636362e+04],\n",
       "       [ 1.35796108e+04],\n",
       "       [ 1.37955855e+04],\n",
       "       [ 1.40045933e+04],\n",
       "       [ 1.42205680e+04],\n",
       "       [ 1.44295757e+04],\n",
       "       [ 1.46455504e+04],\n",
       "       [ 1.48615251e+04],\n",
       "       [ 1.50565990e+04],\n",
       "       [ 1.52725737e+04],\n",
       "       [ 1.54815814e+04],\n",
       "       [ 1.56975561e+04],\n",
       "       [ 1.59065639e+04],\n",
       "       [ 1.61225385e+04],\n",
       "       [ 1.63385132e+04],\n",
       "       [ 1.65475210e+04],\n",
       "       [ 1.67634957e+04],\n",
       "       [ 1.69725034e+04],\n",
       "       [ 1.71884781e+04],\n",
       "       [ 1.74044528e+04],\n",
       "       [ 1.76064936e+04],\n",
       "       [ 1.78224683e+04],\n",
       "       [ 1.80314761e+04],\n",
       "       [ 1.82474507e+04],\n",
       "       [ 1.84564585e+04],\n",
       "       [ 1.86724332e+04],\n",
       "       [ 1.88884079e+04],\n",
       "       [ 1.90974156e+04],\n",
       "       [ 1.93133903e+04],\n",
       "       [ 1.95223981e+04],\n",
       "       [ 1.97383727e+04],\n",
       "       [ 1.99543474e+04],\n",
       "       [ 2.01494213e+04],\n",
       "       [ 2.03653960e+04],\n",
       "       [ 2.05744038e+04],\n",
       "       [ 2.07903785e+04],\n",
       "       [ 2.09993862e+04],\n",
       "       [ 2.12153609e+04],\n",
       "       [ 2.14313356e+04],\n",
       "       [ 2.16403433e+04],\n",
       "       [ 2.18563180e+04],\n",
       "       [ 2.20653258e+04],\n",
       "       [ 2.22813005e+04],\n",
       "       [ 2.24972751e+04],\n",
       "       [ 2.26923490e+04],\n",
       "       [ 2.29083237e+04],\n",
       "       [ 2.31173315e+04],\n",
       "       [ 2.33333062e+04]])"
      ]
     },
     "execution_count": 21,
     "metadata": {},
     "output_type": "execute_result"
    }
   ],
   "source": [
    "y_predict "
   ]
  },
  {
   "cell_type": "code",
   "execution_count": 22,
   "id": "53483132",
   "metadata": {},
   "outputs": [
    {
     "name": "stdout",
     "output_type": "stream",
     "text": [
      "0.9768007090148992\n"
     ]
    }
   ],
   "source": [
    "print(model.score(X,y))"
   ]
  },
  {
   "cell_type": "code",
   "execution_count": 23,
   "id": "35fdbcf5",
   "metadata": {},
   "outputs": [
    {
     "data": {
      "image/png": "[encoded data removed]",
      "text/plain": [
       "<Figure size 864x432 with 1 Axes>"
      ]
     },
     "metadata": {
      "needs_background": "light"
     },
     "output_type": "display_data"
    }
   ],
   "source": [
    "plt.figure(figsize=(12,6))\n",
    "plt.scatter(df.date, df.val_capacidadeinstalada, alpha=0.4, color='orange', label='real')\n",
    "plt.plot(df.date, y_predict, color='magenta', label='predicted')\n",
    "plt.title(\"Linear Regression: Capacidade Instalada nos últimos 10 anos\")\n",
    "plt.xlabel(\"Month-Year\")\n",
    "plt.ylabel(\"Cap. Instalada\")\n",
    "plt.xticks(fontsize=4)\n",
    "plt.legend()\n",
    "plt.show()"
   ]
  },
  {
   "cell_type": "code",
   "execution_count": 24,
   "id": "83aa705e",
   "metadata": {},
   "outputs": [],
   "source": [
    "#ideia do PH - eliminar os dados antes de 2014 pq tem uma reta ali que nao apresenta bem a tendencia dos ultimos anos (comparar valores)"
   ]
  },
  {
   "cell_type": "markdown",
   "id": "0ca6a93f",
   "metadata": {},
   "source": [
    "### Podemos ver que o comportamento até o ano de 2014 é uma constante, portanto, irei tirar esses dados do modelo para testar se a reta se ajustará melhor aos pontos:"
   ]
  },
  {
   "cell_type": "code",
   "execution_count": 25,
   "id": "c9be09e7",
   "metadata": {},
   "outputs": [
    {
     "data": {
      "text/html": [
       "<div>\n",
       "<style scoped>\n",
       "    .dataframe tbody tr th:only-of-type {\n",
       "        vertical-align: middle;\n",
       "    }\n",
       "\n",
       "    .dataframe tbody tr th {\n",
       "        vertical-align: top;\n",
       "    }\n",
       "\n",
       "    .dataframe thead th {\n",
       "        text-align: right;\n",
       "    }\n",
       "</style>\n",
       "<table border=\"1\" class=\"dataframe\">\n",
       "  <thead>\n",
       "    <tr style=\"text-align: right;\">\n",
       "      <th></th>\n",
       "      <th>date</th>\n",
       "      <th>val_capacidadeinstalada</th>\n",
       "    </tr>\n",
       "  </thead>\n",
       "  <tbody>\n",
       "    <tr>\n",
       "      <th>0</th>\n",
       "      <td>2012-01-01</td>\n",
       "      <td>348.90</td>\n",
       "    </tr>\n",
       "    <tr>\n",
       "      <th>1</th>\n",
       "      <td>2012-02-01</td>\n",
       "      <td>363.75</td>\n",
       "    </tr>\n",
       "    <tr>\n",
       "      <th>2</th>\n",
       "      <td>2012-03-01</td>\n",
       "      <td>363.75</td>\n",
       "    </tr>\n",
       "    <tr>\n",
       "      <th>3</th>\n",
       "      <td>2012-04-01</td>\n",
       "      <td>363.75</td>\n",
       "    </tr>\n",
       "    <tr>\n",
       "      <th>4</th>\n",
       "      <td>2012-05-01</td>\n",
       "      <td>363.75</td>\n",
       "    </tr>\n",
       "  </tbody>\n",
       "</table>\n",
       "</div>"
      ],
      "text/plain": [
       "        date  val_capacidadeinstalada\n",
       "0 2012-01-01                   348.90\n",
       "1 2012-02-01                   363.75\n",
       "2 2012-03-01                   363.75\n",
       "3 2012-04-01                   363.75\n",
       "4 2012-05-01                   363.75"
      ]
     },
     "execution_count": 25,
     "metadata": {},
     "output_type": "execute_result"
    }
   ],
   "source": [
    "dfback.head()"
   ]
  },
  {
   "cell_type": "code",
   "execution_count": 26,
   "id": "709df203",
   "metadata": {},
   "outputs": [
    {
     "data": {
      "text/plain": [
       "<matplotlib.collections.PathCollection at 0x20ec0c6ac70>"
      ]
     },
     "execution_count": 26,
     "metadata": {},
     "output_type": "execute_result"
    },
    {
     "data": {
      "image/png": "[encoded data removed]",
      "text/plain": [
       "<Figure size 864x432 with 1 Axes>"
      ]
     },
     "metadata": {
      "needs_background": "light"
     },
     "output_type": "display_data"
    }
   ],
   "source": [
    "plt.figure(figsize=(12,6))\n",
    "plt.scatter(dfback.date, dfback.val_capacidadeinstalada, alpha=0.4)"
   ]
  },
  {
   "cell_type": "code",
   "execution_count": 27,
   "id": "e976a286",
   "metadata": {},
   "outputs": [],
   "source": [
    "dfback = dfback[dfback.date > pd.to_datetime(\"2015-01-01\", format=\"%Y-%m-%d\") ]"
   ]
  },
  {
   "cell_type": "code",
   "execution_count": 28,
   "id": "06cc1950",
   "metadata": {},
   "outputs": [
    {
     "data": {
      "text/html": [
       "<div>\n",
       "<style scoped>\n",
       "    .dataframe tbody tr th:only-of-type {\n",
       "        vertical-align: middle;\n",
       "    }\n",
       "\n",
       "    .dataframe tbody tr th {\n",
       "        vertical-align: top;\n",
       "    }\n",
       "\n",
       "    .dataframe thead th {\n",
       "        text-align: right;\n",
       "    }\n",
       "</style>\n",
       "<table border=\"1\" class=\"dataframe\">\n",
       "  <thead>\n",
       "    <tr style=\"text-align: right;\">\n",
       "      <th></th>\n",
       "      <th>date</th>\n",
       "      <th>val_capacidadeinstalada</th>\n",
       "    </tr>\n",
       "  </thead>\n",
       "  <tbody>\n",
       "    <tr>\n",
       "      <th>37</th>\n",
       "      <td>2015-02-01</td>\n",
       "      <td>3634.190000</td>\n",
       "    </tr>\n",
       "    <tr>\n",
       "      <th>38</th>\n",
       "      <td>2015-03-01</td>\n",
       "      <td>3695.050000</td>\n",
       "    </tr>\n",
       "    <tr>\n",
       "      <th>39</th>\n",
       "      <td>2015-04-01</td>\n",
       "      <td>3914.650000</td>\n",
       "    </tr>\n",
       "    <tr>\n",
       "      <th>40</th>\n",
       "      <td>2015-05-01</td>\n",
       "      <td>3914.650000</td>\n",
       "    </tr>\n",
       "    <tr>\n",
       "      <th>41</th>\n",
       "      <td>2015-06-01</td>\n",
       "      <td>4183.750000</td>\n",
       "    </tr>\n",
       "    <tr>\n",
       "      <th>...</th>\n",
       "      <td>...</td>\n",
       "      <td>...</td>\n",
       "    </tr>\n",
       "    <tr>\n",
       "      <th>121</th>\n",
       "      <td>2022-02-01</td>\n",
       "      <td>23737.757533</td>\n",
       "    </tr>\n",
       "    <tr>\n",
       "      <th>122</th>\n",
       "      <td>2022-03-01</td>\n",
       "      <td>24022.757533</td>\n",
       "    </tr>\n",
       "    <tr>\n",
       "      <th>123</th>\n",
       "      <td>2022-04-01</td>\n",
       "      <td>24143.001533</td>\n",
       "    </tr>\n",
       "    <tr>\n",
       "      <th>124</th>\n",
       "      <td>2022-05-01</td>\n",
       "      <td>24907.181533</td>\n",
       "    </tr>\n",
       "    <tr>\n",
       "      <th>125</th>\n",
       "      <td>2022-06-01</td>\n",
       "      <td>25201.581533</td>\n",
       "    </tr>\n",
       "  </tbody>\n",
       "</table>\n",
       "<p>89 rows × 2 columns</p>\n",
       "</div>"
      ],
      "text/plain": [
       "          date  val_capacidadeinstalada\n",
       "37  2015-02-01              3634.190000\n",
       "38  2015-03-01              3695.050000\n",
       "39  2015-04-01              3914.650000\n",
       "40  2015-05-01              3914.650000\n",
       "41  2015-06-01              4183.750000\n",
       "..         ...                      ...\n",
       "121 2022-02-01             23737.757533\n",
       "122 2022-03-01             24022.757533\n",
       "123 2022-04-01             24143.001533\n",
       "124 2022-05-01             24907.181533\n",
       "125 2022-06-01             25201.581533\n",
       "\n",
       "[89 rows x 2 columns]"
      ]
     },
     "execution_count": 28,
     "metadata": {},
     "output_type": "execute_result"
    }
   ],
   "source": [
    "dfback"
   ]
  },
  {
   "cell_type": "code",
   "execution_count": 29,
   "id": "9608c722",
   "metadata": {},
   "outputs": [
    {
     "data": {
      "text/plain": [
       "<matplotlib.collections.PathCollection at 0x20ec04fd490>"
      ]
     },
     "execution_count": 29,
     "metadata": {},
     "output_type": "execute_result"
    },
    {
     "data": {
      "image/png": "[encoded data removed]",
      "text/plain": [
       "<Figure size 864x432 with 1 Axes>"
      ]
     },
     "metadata": {
      "needs_background": "light"
     },
     "output_type": "display_data"
    }
   ],
   "source": [
    "plt.figure(figsize=(12,6))\n",
    "plt.scatter(dfback.date, dfback.val_capacidadeinstalada, alpha=0.4, color='green')"
   ]
  },
  {
   "cell_type": "code",
   "execution_count": 30,
   "id": "27db2576",
   "metadata": {},
   "outputs": [],
   "source": [
    "import datetime as dt\n",
    "dfback['date'] = pd.to_datetime(dfback['date'])\n",
    "dfback['date']=dfback['date'].map(dt.datetime.toordinal)"
   ]
  },
  {
   "cell_type": "code",
   "execution_count": 31,
   "id": "d3530726",
   "metadata": {},
   "outputs": [
    {
     "data": {
      "text/html": [
       "<div>\n",
       "<style scoped>\n",
       "    .dataframe tbody tr th:only-of-type {\n",
       "        vertical-align: middle;\n",
       "    }\n",
       "\n",
       "    .dataframe tbody tr th {\n",
       "        vertical-align: top;\n",
       "    }\n",
       "\n",
       "    .dataframe thead th {\n",
       "        text-align: right;\n",
       "    }\n",
       "</style>\n",
       "<table border=\"1\" class=\"dataframe\">\n",
       "  <thead>\n",
       "    <tr style=\"text-align: right;\">\n",
       "      <th></th>\n",
       "      <th>date</th>\n",
       "      <th>val_capacidadeinstalada</th>\n",
       "    </tr>\n",
       "  </thead>\n",
       "  <tbody>\n",
       "    <tr>\n",
       "      <th>37</th>\n",
       "      <td>735630</td>\n",
       "      <td>3634.19</td>\n",
       "    </tr>\n",
       "    <tr>\n",
       "      <th>38</th>\n",
       "      <td>735658</td>\n",
       "      <td>3695.05</td>\n",
       "    </tr>\n",
       "    <tr>\n",
       "      <th>39</th>\n",
       "      <td>735689</td>\n",
       "      <td>3914.65</td>\n",
       "    </tr>\n",
       "    <tr>\n",
       "      <th>40</th>\n",
       "      <td>735719</td>\n",
       "      <td>3914.65</td>\n",
       "    </tr>\n",
       "    <tr>\n",
       "      <th>41</th>\n",
       "      <td>735750</td>\n",
       "      <td>4183.75</td>\n",
       "    </tr>\n",
       "  </tbody>\n",
       "</table>\n",
       "</div>"
      ],
      "text/plain": [
       "      date  val_capacidadeinstalada\n",
       "37  735630                  3634.19\n",
       "38  735658                  3695.05\n",
       "39  735689                  3914.65\n",
       "40  735719                  3914.65\n",
       "41  735750                  4183.75"
      ]
     },
     "execution_count": 31,
     "metadata": {},
     "output_type": "execute_result"
    }
   ],
   "source": [
    "dfback.head()"
   ]
  },
  {
   "cell_type": "code",
   "execution_count": 32,
   "id": "f0863e92",
   "metadata": {},
   "outputs": [],
   "source": [
    "X = dfback[['date']]"
   ]
  },
  {
   "cell_type": "code",
   "execution_count": 33,
   "id": "28df5773",
   "metadata": {},
   "outputs": [],
   "source": [
    "y = dfback[['val_capacidadeinstalada']]"
   ]
  },
  {
   "cell_type": "code",
   "execution_count": 34,
   "id": "a2a66e5e",
   "metadata": {},
   "outputs": [
    {
     "data": {
      "text/plain": [
       "LinearRegression()"
      ]
     },
     "execution_count": 34,
     "metadata": {},
     "output_type": "execute_result"
    }
   ],
   "source": [
    "model = LinearRegression()\n",
    "model.fit(X, y)"
   ]
  },
  {
   "cell_type": "code",
   "execution_count": 35,
   "id": "9f7251fd",
   "metadata": {},
   "outputs": [],
   "source": [
    "y_predict = model.predict(X)"
   ]
  },
  {
   "cell_type": "code",
   "execution_count": 36,
   "id": "58c2835b",
   "metadata": {},
   "outputs": [
    {
     "data": {
      "image/png": "[encoded data removed]",
      "text/plain": [
       "<Figure size 864x432 with 1 Axes>"
      ]
     },
     "metadata": {
      "needs_background": "light"
     },
     "output_type": "display_data"
    }
   ],
   "source": [
    "plt.figure(figsize=(12,6))\n",
    "plt.scatter(dfback.date, dfback.val_capacidadeinstalada, alpha=0.3, color='green', label='real')\n",
    "plt.plot(dfback.date, y_predict, color='cyan', alpha=1, label='predicted')\n",
    "plt.title(\"Linear Regression: Capacidade Instalada nos últimos 10 anos\")\n",
    "plt.xlabel(\"Month-Year\")\n",
    "plt.ylabel(\"Cap. Instalada\")\n",
    "plt.xticks(fontsize=4)\n",
    "plt.legend()\n",
    "plt.show()"
   ]
  },
  {
   "cell_type": "code",
   "execution_count": 37,
   "id": "d259baee",
   "metadata": {},
   "outputs": [],
   "source": [
    "#agora a função está mais ajustada aos pontos. Vamos prever os próximos 10 anos"
   ]
  },
  {
   "cell_type": "code",
   "execution_count": 38,
   "id": "850a126d",
   "metadata": {},
   "outputs": [],
   "source": [
    "per = pd.date_range(start= \"2022-06-01\", end=\"2031-01-01\", freq='1M')"
   ]
  },
  {
   "cell_type": "code",
   "execution_count": 39,
   "id": "ec5a56e1",
   "metadata": {},
   "outputs": [
    {
     "data": {
      "text/plain": [
       "DatetimeIndex(['2022-06-30', '2022-07-31', '2022-08-31', '2022-09-30',\n",
       "               '2022-10-31', '2022-11-30', '2022-12-31', '2023-01-31',\n",
       "               '2023-02-28', '2023-03-31',\n",
       "               ...\n",
       "               '2030-03-31', '2030-04-30', '2030-05-31', '2030-06-30',\n",
       "               '2030-07-31', '2030-08-31', '2030-09-30', '2030-10-31',\n",
       "               '2030-11-30', '2030-12-31'],\n",
       "              dtype='datetime64[ns]', length=103, freq='M')"
      ]
     },
     "execution_count": 39,
     "metadata": {},
     "output_type": "execute_result"
    }
   ],
   "source": [
    "per"
   ]
  },
  {
   "cell_type": "code",
   "execution_count": 40,
   "id": "0c5dbabc",
   "metadata": {},
   "outputs": [],
   "source": [
    "per=per.map(dt.datetime.toordinal)"
   ]
  },
  {
   "cell_type": "code",
   "execution_count": 41,
   "id": "85b11a26",
   "metadata": {},
   "outputs": [],
   "source": [
    "newdate = pd.DataFrame(per, columns=['date'])"
   ]
  },
  {
   "cell_type": "code",
   "execution_count": 42,
   "id": "3540456f",
   "metadata": {
    "scrolled": true
   },
   "outputs": [
    {
     "data": {
      "text/plain": [
       "array([[24431.18556266],\n",
       "       [24670.45273472],\n",
       "       [24909.71990677],\n",
       "       [25141.26878295],\n",
       "       [25380.53595501],\n",
       "       [25612.08483119],\n",
       "       [25851.35200325],\n",
       "       [26090.6191753 ],\n",
       "       [26306.73145974],\n",
       "       [26545.9986318 ],\n",
       "       [26777.54750798],\n",
       "       [27016.81468004],\n",
       "       [27248.36355622],\n",
       "       [27487.63072827],\n",
       "       [27726.89790033],\n",
       "       [27958.44677651],\n",
       "       [28197.71394857],\n",
       "       [28429.26282475],\n",
       "       [28668.52999681],\n",
       "       [28907.79716886],\n",
       "       [29131.62774917],\n",
       "       [29370.89492123],\n",
       "       [29602.44379741],\n",
       "       [29841.71096947],\n",
       "       [30073.25984565],\n",
       "       [30312.5270177 ],\n",
       "       [30551.79418976],\n",
       "       [30783.34306594],\n",
       "       [31022.610238  ],\n",
       "       [31254.15911418],\n",
       "       [31493.42628624],\n",
       "       [31732.69345829],\n",
       "       [31948.80574273],\n",
       "       [32188.07291479],\n",
       "       [32419.62179097],\n",
       "       [32658.88896302],\n",
       "       [32890.43783921],\n",
       "       [33129.70501126],\n",
       "       [33368.97218332],\n",
       "       [33600.5210595 ],\n",
       "       [33839.78823156],\n",
       "       [34071.33710774],\n",
       "       [34310.6042798 ],\n",
       "       [34549.87145185],\n",
       "       [34765.98373629],\n",
       "       [35005.25090834],\n",
       "       [35236.79978453],\n",
       "       [35476.06695658],\n",
       "       [35707.61583276],\n",
       "       [35946.88300482],\n",
       "       [36186.15017688],\n",
       "       [36417.69905306],\n",
       "       [36656.96622511],\n",
       "       [36888.5151013 ],\n",
       "       [37127.78227335],\n",
       "       [37367.04944541],\n",
       "       [37583.16172985],\n",
       "       [37822.4289019 ],\n",
       "       [38053.97777808],\n",
       "       [38293.24495014],\n",
       "       [38524.79382632],\n",
       "       [38764.06099838],\n",
       "       [39003.32817043],\n",
       "       [39234.87704662],\n",
       "       [39474.14421867],\n",
       "       [39705.69309486],\n",
       "       [39944.96026691],\n",
       "       [40184.22743897],\n",
       "       [40408.05801928],\n",
       "       [40647.32519133],\n",
       "       [40878.87406752],\n",
       "       [41118.14123957],\n",
       "       [41349.69011575],\n",
       "       [41588.95728781],\n",
       "       [41828.22445987],\n",
       "       [42059.77333605],\n",
       "       [42299.0405081 ],\n",
       "       [42530.58938429],\n",
       "       [42769.85655634],\n",
       "       [43009.1237284 ],\n",
       "       [43225.23601284],\n",
       "       [43464.50318489],\n",
       "       [43696.05206107],\n",
       "       [43935.31923313],\n",
       "       [44166.86810931],\n",
       "       [44406.13528137],\n",
       "       [44645.40245342],\n",
       "       [44876.95132961],\n",
       "       [45116.21850166],\n",
       "       [45347.76737784],\n",
       "       [45587.0345499 ],\n",
       "       [45826.30172196],\n",
       "       [46042.41400639],\n",
       "       [46281.68117845],\n",
       "       [46513.23005463],\n",
       "       [46752.49722669],\n",
       "       [46984.04610287],\n",
       "       [47223.31327493],\n",
       "       [47462.58044698],\n",
       "       [47694.12932316],\n",
       "       [47933.39649522],\n",
       "       [48164.9453714 ],\n",
       "       [48404.21254346]])"
      ]
     },
     "execution_count": 42,
     "metadata": {},
     "output_type": "execute_result"
    }
   ],
   "source": [
    "predicted = model.predict(newdate)\n",
    "predicted"
   ]
  },
  {
   "cell_type": "code",
   "execution_count": 43,
   "id": "c0174a62",
   "metadata": {},
   "outputs": [],
   "source": [
    "newdate['val_capacidadeinstalada'] = predicted"
   ]
  },
  {
   "cell_type": "code",
   "execution_count": 44,
   "id": "26619f4e",
   "metadata": {},
   "outputs": [
    {
     "data": {
      "image/png": "[encoded data removed]",
      "text/plain": [
       "<Figure size 864x432 with 1 Axes>"
      ]
     },
     "metadata": {
      "needs_background": "light"
     },
     "output_type": "display_data"
    }
   ],
   "source": [
    "plt.figure(figsize=(12,6))\n",
    "plt.scatter(dfback.date, dfback.val_capacidadeinstalada, alpha=0.4, color='green', label='real')\n",
    "plt.plot(dfback.date, y_predict, color='red', alpha=0.4, label='predicted')\n",
    "plt.plot(newdate.date, newdate.val_capacidadeinstalada, color='red', alpha=0.4, label='predicted')\n",
    "plt.title(\"Linear Regression: Capacidade Instalada nos próximos 10 anos\")\n",
    "plt.xlabel(\"Month-Year\")\n",
    "plt.ylabel(\"Cap. Instalada\")\n",
    "plt.xticks(fontsize=4)\n",
    "plt.legend()\n",
    "plt.show()"
   ]
  },
  {
   "cell_type": "code",
   "execution_count": 45,
   "id": "74a63682",
   "metadata": {},
   "outputs": [
    {
     "data": {
      "text/html": [
       "<div>\n",
       "<style scoped>\n",
       "    .dataframe tbody tr th:only-of-type {\n",
       "        vertical-align: middle;\n",
       "    }\n",
       "\n",
       "    .dataframe tbody tr th {\n",
       "        vertical-align: top;\n",
       "    }\n",
       "\n",
       "    .dataframe thead th {\n",
       "        text-align: right;\n",
       "    }\n",
       "</style>\n",
       "<table border=\"1\" class=\"dataframe\">\n",
       "  <thead>\n",
       "    <tr style=\"text-align: right;\">\n",
       "      <th></th>\n",
       "      <th>date</th>\n",
       "      <th>val_capacidadeinstalada</th>\n",
       "    </tr>\n",
       "  </thead>\n",
       "  <tbody>\n",
       "    <tr>\n",
       "      <th>0</th>\n",
       "      <td>738336</td>\n",
       "      <td>24431.185563</td>\n",
       "    </tr>\n",
       "    <tr>\n",
       "      <th>1</th>\n",
       "      <td>738367</td>\n",
       "      <td>24670.452735</td>\n",
       "    </tr>\n",
       "    <tr>\n",
       "      <th>2</th>\n",
       "      <td>738398</td>\n",
       "      <td>24909.719907</td>\n",
       "    </tr>\n",
       "    <tr>\n",
       "      <th>3</th>\n",
       "      <td>738428</td>\n",
       "      <td>25141.268783</td>\n",
       "    </tr>\n",
       "    <tr>\n",
       "      <th>4</th>\n",
       "      <td>738459</td>\n",
       "      <td>25380.535955</td>\n",
       "    </tr>\n",
       "  </tbody>\n",
       "</table>\n",
       "</div>"
      ],
      "text/plain": [
       "     date  val_capacidadeinstalada\n",
       "0  738336             24431.185563\n",
       "1  738367             24670.452735\n",
       "2  738398             24909.719907\n",
       "3  738428             25141.268783\n",
       "4  738459             25380.535955"
      ]
     },
     "execution_count": 45,
     "metadata": {},
     "output_type": "execute_result"
    }
   ],
   "source": [
    "newdate.head()"
   ]
  },
  {
   "cell_type": "code",
   "execution_count": 46,
   "id": "0bb00c40",
   "metadata": {},
   "outputs": [],
   "source": [
    "newdate['date'] = newdate['date'].apply(lambda x: datetime.date.fromordinal(x))\n"
   ]
  },
  {
   "cell_type": "code",
   "execution_count": 47,
   "id": "7c6f9476",
   "metadata": {},
   "outputs": [
    {
     "data": {
      "text/html": [
       "<div>\n",
       "<style scoped>\n",
       "    .dataframe tbody tr th:only-of-type {\n",
       "        vertical-align: middle;\n",
       "    }\n",
       "\n",
       "    .dataframe tbody tr th {\n",
       "        vertical-align: top;\n",
       "    }\n",
       "\n",
       "    .dataframe thead th {\n",
       "        text-align: right;\n",
       "    }\n",
       "</style>\n",
       "<table border=\"1\" class=\"dataframe\">\n",
       "  <thead>\n",
       "    <tr style=\"text-align: right;\">\n",
       "      <th></th>\n",
       "      <th>date</th>\n",
       "      <th>val_capacidadeinstalada</th>\n",
       "    </tr>\n",
       "  </thead>\n",
       "  <tbody>\n",
       "    <tr>\n",
       "      <th>0</th>\n",
       "      <td>2022-06-30</td>\n",
       "      <td>24431.185563</td>\n",
       "    </tr>\n",
       "    <tr>\n",
       "      <th>1</th>\n",
       "      <td>2022-07-31</td>\n",
       "      <td>24670.452735</td>\n",
       "    </tr>\n",
       "    <tr>\n",
       "      <th>2</th>\n",
       "      <td>2022-08-31</td>\n",
       "      <td>24909.719907</td>\n",
       "    </tr>\n",
       "    <tr>\n",
       "      <th>3</th>\n",
       "      <td>2022-09-30</td>\n",
       "      <td>25141.268783</td>\n",
       "    </tr>\n",
       "    <tr>\n",
       "      <th>4</th>\n",
       "      <td>2022-10-31</td>\n",
       "      <td>25380.535955</td>\n",
       "    </tr>\n",
       "    <tr>\n",
       "      <th>...</th>\n",
       "      <td>...</td>\n",
       "      <td>...</td>\n",
       "    </tr>\n",
       "    <tr>\n",
       "      <th>98</th>\n",
       "      <td>2030-08-31</td>\n",
       "      <td>47462.580447</td>\n",
       "    </tr>\n",
       "    <tr>\n",
       "      <th>99</th>\n",
       "      <td>2030-09-30</td>\n",
       "      <td>47694.129323</td>\n",
       "    </tr>\n",
       "    <tr>\n",
       "      <th>100</th>\n",
       "      <td>2030-10-31</td>\n",
       "      <td>47933.396495</td>\n",
       "    </tr>\n",
       "    <tr>\n",
       "      <th>101</th>\n",
       "      <td>2030-11-30</td>\n",
       "      <td>48164.945371</td>\n",
       "    </tr>\n",
       "    <tr>\n",
       "      <th>102</th>\n",
       "      <td>2030-12-31</td>\n",
       "      <td>48404.212543</td>\n",
       "    </tr>\n",
       "  </tbody>\n",
       "</table>\n",
       "<p>103 rows × 2 columns</p>\n",
       "</div>"
      ],
      "text/plain": [
       "           date  val_capacidadeinstalada\n",
       "0    2022-06-30             24431.185563\n",
       "1    2022-07-31             24670.452735\n",
       "2    2022-08-31             24909.719907\n",
       "3    2022-09-30             25141.268783\n",
       "4    2022-10-31             25380.535955\n",
       "..          ...                      ...\n",
       "98   2030-08-31             47462.580447\n",
       "99   2030-09-30             47694.129323\n",
       "100  2030-10-31             47933.396495\n",
       "101  2030-11-30             48164.945371\n",
       "102  2030-12-31             48404.212543\n",
       "\n",
       "[103 rows x 2 columns]"
      ]
     },
     "execution_count": 47,
     "metadata": {},
     "output_type": "execute_result"
    }
   ],
   "source": [
    "newdate"
   ]
  },
  {
   "cell_type": "code",
   "execution_count": 48,
   "id": "59c89533",
   "metadata": {},
   "outputs": [],
   "source": [
    "dfback['date'] = dfback['date'].apply(lambda x: datetime.date.fromordinal(x))"
   ]
  },
  {
   "cell_type": "code",
   "execution_count": 49,
   "id": "556973ed",
   "metadata": {},
   "outputs": [
    {
     "data": {
      "text/html": [
       "<div>\n",
       "<style scoped>\n",
       "    .dataframe tbody tr th:only-of-type {\n",
       "        vertical-align: middle;\n",
       "    }\n",
       "\n",
       "    .dataframe tbody tr th {\n",
       "        vertical-align: top;\n",
       "    }\n",
       "\n",
       "    .dataframe thead th {\n",
       "        text-align: right;\n",
       "    }\n",
       "</style>\n",
       "<table border=\"1\" class=\"dataframe\">\n",
       "  <thead>\n",
       "    <tr style=\"text-align: right;\">\n",
       "      <th></th>\n",
       "      <th>date</th>\n",
       "      <th>val_capacidadeinstalada</th>\n",
       "    </tr>\n",
       "  </thead>\n",
       "  <tbody>\n",
       "    <tr>\n",
       "      <th>37</th>\n",
       "      <td>2015-02-01</td>\n",
       "      <td>3634.190000</td>\n",
       "    </tr>\n",
       "    <tr>\n",
       "      <th>38</th>\n",
       "      <td>2015-03-01</td>\n",
       "      <td>3695.050000</td>\n",
       "    </tr>\n",
       "    <tr>\n",
       "      <th>39</th>\n",
       "      <td>2015-04-01</td>\n",
       "      <td>3914.650000</td>\n",
       "    </tr>\n",
       "    <tr>\n",
       "      <th>40</th>\n",
       "      <td>2015-05-01</td>\n",
       "      <td>3914.650000</td>\n",
       "    </tr>\n",
       "    <tr>\n",
       "      <th>41</th>\n",
       "      <td>2015-06-01</td>\n",
       "      <td>4183.750000</td>\n",
       "    </tr>\n",
       "    <tr>\n",
       "      <th>...</th>\n",
       "      <td>...</td>\n",
       "      <td>...</td>\n",
       "    </tr>\n",
       "    <tr>\n",
       "      <th>121</th>\n",
       "      <td>2022-02-01</td>\n",
       "      <td>23737.757533</td>\n",
       "    </tr>\n",
       "    <tr>\n",
       "      <th>122</th>\n",
       "      <td>2022-03-01</td>\n",
       "      <td>24022.757533</td>\n",
       "    </tr>\n",
       "    <tr>\n",
       "      <th>123</th>\n",
       "      <td>2022-04-01</td>\n",
       "      <td>24143.001533</td>\n",
       "    </tr>\n",
       "    <tr>\n",
       "      <th>124</th>\n",
       "      <td>2022-05-01</td>\n",
       "      <td>24907.181533</td>\n",
       "    </tr>\n",
       "    <tr>\n",
       "      <th>125</th>\n",
       "      <td>2022-06-01</td>\n",
       "      <td>25201.581533</td>\n",
       "    </tr>\n",
       "  </tbody>\n",
       "</table>\n",
       "<p>89 rows × 2 columns</p>\n",
       "</div>"
      ],
      "text/plain": [
       "           date  val_capacidadeinstalada\n",
       "37   2015-02-01              3634.190000\n",
       "38   2015-03-01              3695.050000\n",
       "39   2015-04-01              3914.650000\n",
       "40   2015-05-01              3914.650000\n",
       "41   2015-06-01              4183.750000\n",
       "..          ...                      ...\n",
       "121  2022-02-01             23737.757533\n",
       "122  2022-03-01             24022.757533\n",
       "123  2022-04-01             24143.001533\n",
       "124  2022-05-01             24907.181533\n",
       "125  2022-06-01             25201.581533\n",
       "\n",
       "[89 rows x 2 columns]"
      ]
     },
     "execution_count": 49,
     "metadata": {},
     "output_type": "execute_result"
    }
   ],
   "source": [
    "dfback"
   ]
  },
  {
   "cell_type": "code",
   "execution_count": 50,
   "id": "d06bfa6c",
   "metadata": {},
   "outputs": [],
   "source": [
    "predictedcap = pd.concat([dfback, newdate])"
   ]
  },
  {
   "cell_type": "code",
   "execution_count": 51,
   "id": "da3159c2",
   "metadata": {},
   "outputs": [
    {
     "data": {
      "text/html": [
       "<div>\n",
       "<style scoped>\n",
       "    .dataframe tbody tr th:only-of-type {\n",
       "        vertical-align: middle;\n",
       "    }\n",
       "\n",
       "    .dataframe tbody tr th {\n",
       "        vertical-align: top;\n",
       "    }\n",
       "\n",
       "    .dataframe thead th {\n",
       "        text-align: right;\n",
       "    }\n",
       "</style>\n",
       "<table border=\"1\" class=\"dataframe\">\n",
       "  <thead>\n",
       "    <tr style=\"text-align: right;\">\n",
       "      <th></th>\n",
       "      <th>date</th>\n",
       "      <th>val_capacidadeinstalada</th>\n",
       "    </tr>\n",
       "  </thead>\n",
       "  <tbody>\n",
       "    <tr>\n",
       "      <th>37</th>\n",
       "      <td>2015-02-01</td>\n",
       "      <td>3634.190000</td>\n",
       "    </tr>\n",
       "    <tr>\n",
       "      <th>38</th>\n",
       "      <td>2015-03-01</td>\n",
       "      <td>3695.050000</td>\n",
       "    </tr>\n",
       "    <tr>\n",
       "      <th>39</th>\n",
       "      <td>2015-04-01</td>\n",
       "      <td>3914.650000</td>\n",
       "    </tr>\n",
       "    <tr>\n",
       "      <th>40</th>\n",
       "      <td>2015-05-01</td>\n",
       "      <td>3914.650000</td>\n",
       "    </tr>\n",
       "    <tr>\n",
       "      <th>41</th>\n",
       "      <td>2015-06-01</td>\n",
       "      <td>4183.750000</td>\n",
       "    </tr>\n",
       "    <tr>\n",
       "      <th>...</th>\n",
       "      <td>...</td>\n",
       "      <td>...</td>\n",
       "    </tr>\n",
       "    <tr>\n",
       "      <th>98</th>\n",
       "      <td>2030-08-31</td>\n",
       "      <td>47462.580447</td>\n",
       "    </tr>\n",
       "    <tr>\n",
       "      <th>99</th>\n",
       "      <td>2030-09-30</td>\n",
       "      <td>47694.129323</td>\n",
       "    </tr>\n",
       "    <tr>\n",
       "      <th>100</th>\n",
       "      <td>2030-10-31</td>\n",
       "      <td>47933.396495</td>\n",
       "    </tr>\n",
       "    <tr>\n",
       "      <th>101</th>\n",
       "      <td>2030-11-30</td>\n",
       "      <td>48164.945371</td>\n",
       "    </tr>\n",
       "    <tr>\n",
       "      <th>102</th>\n",
       "      <td>2030-12-31</td>\n",
       "      <td>48404.212543</td>\n",
       "    </tr>\n",
       "  </tbody>\n",
       "</table>\n",
       "<p>192 rows × 2 columns</p>\n",
       "</div>"
      ],
      "text/plain": [
       "           date  val_capacidadeinstalada\n",
       "37   2015-02-01              3634.190000\n",
       "38   2015-03-01              3695.050000\n",
       "39   2015-04-01              3914.650000\n",
       "40   2015-05-01              3914.650000\n",
       "41   2015-06-01              4183.750000\n",
       "..          ...                      ...\n",
       "98   2030-08-31             47462.580447\n",
       "99   2030-09-30             47694.129323\n",
       "100  2030-10-31             47933.396495\n",
       "101  2030-11-30             48164.945371\n",
       "102  2030-12-31             48404.212543\n",
       "\n",
       "[192 rows x 2 columns]"
      ]
     },
     "execution_count": 51,
     "metadata": {},
     "output_type": "execute_result"
    }
   ],
   "source": [
    "predictedcap"
   ]
  },
  {
   "cell_type": "code",
   "execution_count": 9,
   "id": "89fc1192",
   "metadata": {},
   "outputs": [],
   "source": [
    "fortab = pd.read_csv('forecast_tableau.csv', sep=';')"
   ]
  },
  {
   "cell_type": "code",
   "execution_count": 13,
   "id": "97b5d23e",
   "metadata": {},
   "outputs": [
    {
     "data": {
      "text/html": [
       "<div>\n",
       "<style scoped>\n",
       "    .dataframe tbody tr th:only-of-type {\n",
       "        vertical-align: middle;\n",
       "    }\n",
       "\n",
       "    .dataframe tbody tr th {\n",
       "        vertical-align: top;\n",
       "    }\n",
       "\n",
       "    .dataframe thead th {\n",
       "        text-align: right;\n",
       "    }\n",
       "</style>\n",
       "<table border=\"1\" class=\"dataframe\">\n",
       "  <thead>\n",
       "    <tr style=\"text-align: right;\">\n",
       "      <th></th>\n",
       "      <th>Indicador de previsões</th>\n",
       "      <th>Nom Tipousina</th>\n",
       "      <th>Mês de date</th>\n",
       "      <th>Soma de Val Geracao</th>\n",
       "    </tr>\n",
       "  </thead>\n",
       "  <tbody>\n",
       "    <tr>\n",
       "      <th>0</th>\n",
       "      <td>Real</td>\n",
       "      <td>TÉRMICA</td>\n",
       "      <td>abril de 2021</td>\n",
       "      <td>16958,083</td>\n",
       "    </tr>\n",
       "    <tr>\n",
       "      <th>1</th>\n",
       "      <td>Real</td>\n",
       "      <td>NUCLEAR</td>\n",
       "      <td>abril de 2021</td>\n",
       "      <td>1860,901</td>\n",
       "    </tr>\n",
       "    <tr>\n",
       "      <th>2</th>\n",
       "      <td>Real</td>\n",
       "      <td>HIDROELÉTRICA</td>\n",
       "      <td>abril de 2021</td>\n",
       "      <td>80518,333</td>\n",
       "    </tr>\n",
       "    <tr>\n",
       "      <th>3</th>\n",
       "      <td>Real</td>\n",
       "      <td>FOTOVOLTAICA</td>\n",
       "      <td>abril de 2021</td>\n",
       "      <td>2816,421</td>\n",
       "    </tr>\n",
       "    <tr>\n",
       "      <th>4</th>\n",
       "      <td>Real</td>\n",
       "      <td>EOLIELÉTRICA</td>\n",
       "      <td>abril de 2021</td>\n",
       "      <td>15994,574</td>\n",
       "    </tr>\n",
       "    <tr>\n",
       "      <th>...</th>\n",
       "      <td>...</td>\n",
       "      <td>...</td>\n",
       "      <td>...</td>\n",
       "      <td>...</td>\n",
       "    </tr>\n",
       "    <tr>\n",
       "      <th>1195</th>\n",
       "      <td>Estimar</td>\n",
       "      <td>TÉRMICA</td>\n",
       "      <td>maio de 2021</td>\n",
       "      <td>16260,202004686</td>\n",
       "    </tr>\n",
       "    <tr>\n",
       "      <th>1196</th>\n",
       "      <td>Estimar</td>\n",
       "      <td>NUCLEAR</td>\n",
       "      <td>maio de 2021</td>\n",
       "      <td>1872,238044046</td>\n",
       "    </tr>\n",
       "    <tr>\n",
       "      <th>1197</th>\n",
       "      <td>Estimar</td>\n",
       "      <td>HIDROELÉTRICA</td>\n",
       "      <td>maio de 2021</td>\n",
       "      <td>78860,145931617</td>\n",
       "    </tr>\n",
       "    <tr>\n",
       "      <th>1198</th>\n",
       "      <td>Estimar</td>\n",
       "      <td>FOTOVOLTAICA</td>\n",
       "      <td>maio de 2021</td>\n",
       "      <td>2877,961423109</td>\n",
       "    </tr>\n",
       "    <tr>\n",
       "      <th>1199</th>\n",
       "      <td>Estimar</td>\n",
       "      <td>EOLIELÉTRICA</td>\n",
       "      <td>maio de 2021</td>\n",
       "      <td>15666,530970187</td>\n",
       "    </tr>\n",
       "  </tbody>\n",
       "</table>\n",
       "<p>1200 rows × 4 columns</p>\n",
       "</div>"
      ],
      "text/plain": [
       "     Indicador de previsões  Nom Tipousina    Mês de date Soma de Val Geracao\n",
       "0                      Real        TÉRMICA  abril de 2021           16958,083\n",
       "1                      Real        NUCLEAR  abril de 2021            1860,901\n",
       "2                      Real  HIDROELÉTRICA  abril de 2021           80518,333\n",
       "3                      Real   FOTOVOLTAICA  abril de 2021            2816,421\n",
       "4                      Real   EOLIELÉTRICA  abril de 2021           15994,574\n",
       "...                     ...            ...            ...                 ...\n",
       "1195                Estimar        TÉRMICA   maio de 2021     16260,202004686\n",
       "1196                Estimar        NUCLEAR   maio de 2021      1872,238044046\n",
       "1197                Estimar  HIDROELÉTRICA   maio de 2021     78860,145931617\n",
       "1198                Estimar   FOTOVOLTAICA   maio de 2021      2877,961423109\n",
       "1199                Estimar   EOLIELÉTRICA   maio de 2021     15666,530970187\n",
       "\n",
       "[1200 rows x 4 columns]"
      ]
     },
     "execution_count": 13,
     "metadata": {},
     "output_type": "execute_result"
    }
   ],
   "source": [
    "fortab"
   ]
  },
  {
   "cell_type": "code",
   "execution_count": 11,
   "id": "d53f9f87",
   "metadata": {},
   "outputs": [
    {
     "data": {
      "text/plain": [
       "Index(['Indicador de previsões', 'Nom Tipousina', 'Mês de date',\n",
       "       'Soma de Val Geracao'],\n",
       "      dtype='object')"
      ]
     },
     "execution_count": 11,
     "metadata": {},
     "output_type": "execute_result"
    }
   ],
   "source": [
    "fortab.columns"
   ]
  },
  {
   "cell_type": "code",
   "execution_count": 30,
   "id": "c0d64c13",
   "metadata": {},
   "outputs": [
    {
     "name": "stdout",
     "output_type": "stream",
     "text": [
      "<class 'pandas.core.frame.DataFrame'>\n",
      "RangeIndex: 1200 entries, 0 to 1199\n",
      "Data columns (total 4 columns):\n",
      " #   Column                  Non-Null Count  Dtype \n",
      "---  ------                  --------------  ----- \n",
      " 0   Indicador de previsões  1200 non-null   object\n",
      " 1   Nom Tipousina           1200 non-null   object\n",
      " 2   Mês de date             1200 non-null   object\n",
      " 3   Soma de Val Geracao     1158 non-null   object\n",
      "dtypes: object(4)\n",
      "memory usage: 37.6+ KB\n"
     ]
    }
   ],
   "source": [
    "fortab.info()"
   ]
  },
  {
   "cell_type": "code",
   "execution_count": 32,
   "id": "cd713fab",
   "metadata": {},
   "outputs": [],
   "source": [
    "fortab['Mês de date'] = fortab['Mês de date'].astype('string')"
   ]
  },
  {
   "cell_type": "code",
   "execution_count": 38,
   "id": "73cb0ee7",
   "metadata": {},
   "outputs": [
    {
     "data": {
      "text/plain": [
       "0       abril de 2021\n",
       "1       abril de 2021\n",
       "2       abril de 2021\n",
       "3       abril de 2021\n",
       "4       abril de 2021\n",
       "            ...      \n",
       "1195     maio de 2021\n",
       "1196     maio de 2021\n",
       "1197     maio de 2021\n",
       "1198     maio de 2021\n",
       "1199     maio de 2021\n",
       "Name: Mês de date, Length: 1200, dtype: string"
      ]
     },
     "execution_count": 38,
     "metadata": {},
     "output_type": "execute_result"
    }
   ],
   "source": [
    "fortab['Mês de date']"
   ]
  },
  {
   "cell_type": "code",
   "execution_count": 17,
   "id": "cf28df5f",
   "metadata": {},
   "outputs": [],
   "source": [
    "import regex as re"
   ]
  },
  {
   "cell_type": "code",
   "execution_count": 39,
   "id": "e3f2f41d",
   "metadata": {},
   "outputs": [],
   "source": [
    "fortab['year'] = fortab['Mês de date'].str.extract('(\\d+)')"
   ]
  },
  {
   "cell_type": "code",
   "execution_count": 41,
   "id": "d566d6ac",
   "metadata": {},
   "outputs": [],
   "source": [
    "fortab['month'] = fortab['Mês de date'].str.extract('(\\w+)')"
   ]
  },
  {
   "cell_type": "code",
   "execution_count": 48,
   "id": "5c268275",
   "metadata": {},
   "outputs": [
    {
     "data": {
      "text/plain": [
       "1     100\n",
       "2     100\n",
       "3     100\n",
       "4     100\n",
       "5     100\n",
       "6     100\n",
       "7     100\n",
       "8     100\n",
       "9     100\n",
       "10    100\n",
       "11    100\n",
       "12    100\n",
       "Name: month, dtype: int64"
      ]
     },
     "execution_count": 48,
     "metadata": {},
     "output_type": "execute_result"
    }
   ],
   "source": [
    "fortab.month.value_counts()"
   ]
  },
  {
   "cell_type": "code",
   "execution_count": 45,
   "id": "05f083db",
   "metadata": {},
   "outputs": [],
   "source": [
    "dictmonth = {'janeiro':1, 'fevereiro':2, 'março':3, 'abril':4, 'maio':5, 'junho':6, 'julho':7, 'agosto':8, 'setembro':9, 'outubro':10, 'novembro':11, 'dezembro':12}"
   ]
  },
  {
   "cell_type": "code",
   "execution_count": 46,
   "id": "1658c265",
   "metadata": {},
   "outputs": [],
   "source": [
    "fortab['month'] = fortab['month'].replace(dictmonth)"
   ]
  },
  {
   "cell_type": "code",
   "execution_count": 47,
   "id": "c61cb37a",
   "metadata": {},
   "outputs": [
    {
     "data": {
      "text/html": [
       "<div>\n",
       "<style scoped>\n",
       "    .dataframe tbody tr th:only-of-type {\n",
       "        vertical-align: middle;\n",
       "    }\n",
       "\n",
       "    .dataframe tbody tr th {\n",
       "        vertical-align: top;\n",
       "    }\n",
       "\n",
       "    .dataframe thead th {\n",
       "        text-align: right;\n",
       "    }\n",
       "</style>\n",
       "<table border=\"1\" class=\"dataframe\">\n",
       "  <thead>\n",
       "    <tr style=\"text-align: right;\">\n",
       "      <th></th>\n",
       "      <th>Indicador de previsões</th>\n",
       "      <th>Nom Tipousina</th>\n",
       "      <th>Mês de date</th>\n",
       "      <th>Soma de Val Geracao</th>\n",
       "      <th>year</th>\n",
       "      <th>month</th>\n",
       "    </tr>\n",
       "  </thead>\n",
       "  <tbody>\n",
       "    <tr>\n",
       "      <th>0</th>\n",
       "      <td>Real</td>\n",
       "      <td>TÉRMICA</td>\n",
       "      <td>abril de 2021</td>\n",
       "      <td>16958,083</td>\n",
       "      <td>2021</td>\n",
       "      <td>4</td>\n",
       "    </tr>\n",
       "    <tr>\n",
       "      <th>1</th>\n",
       "      <td>Real</td>\n",
       "      <td>NUCLEAR</td>\n",
       "      <td>abril de 2021</td>\n",
       "      <td>1860,901</td>\n",
       "      <td>2021</td>\n",
       "      <td>4</td>\n",
       "    </tr>\n",
       "    <tr>\n",
       "      <th>2</th>\n",
       "      <td>Real</td>\n",
       "      <td>HIDROELÉTRICA</td>\n",
       "      <td>abril de 2021</td>\n",
       "      <td>80518,333</td>\n",
       "      <td>2021</td>\n",
       "      <td>4</td>\n",
       "    </tr>\n",
       "    <tr>\n",
       "      <th>3</th>\n",
       "      <td>Real</td>\n",
       "      <td>FOTOVOLTAICA</td>\n",
       "      <td>abril de 2021</td>\n",
       "      <td>2816,421</td>\n",
       "      <td>2021</td>\n",
       "      <td>4</td>\n",
       "    </tr>\n",
       "    <tr>\n",
       "      <th>4</th>\n",
       "      <td>Real</td>\n",
       "      <td>EOLIELÉTRICA</td>\n",
       "      <td>abril de 2021</td>\n",
       "      <td>15994,574</td>\n",
       "      <td>2021</td>\n",
       "      <td>4</td>\n",
       "    </tr>\n",
       "    <tr>\n",
       "      <th>...</th>\n",
       "      <td>...</td>\n",
       "      <td>...</td>\n",
       "      <td>...</td>\n",
       "      <td>...</td>\n",
       "      <td>...</td>\n",
       "      <td>...</td>\n",
       "    </tr>\n",
       "    <tr>\n",
       "      <th>1195</th>\n",
       "      <td>Estimar</td>\n",
       "      <td>TÉRMICA</td>\n",
       "      <td>maio de 2021</td>\n",
       "      <td>16260,202004686</td>\n",
       "      <td>2021</td>\n",
       "      <td>5</td>\n",
       "    </tr>\n",
       "    <tr>\n",
       "      <th>1196</th>\n",
       "      <td>Estimar</td>\n",
       "      <td>NUCLEAR</td>\n",
       "      <td>maio de 2021</td>\n",
       "      <td>1872,238044046</td>\n",
       "      <td>2021</td>\n",
       "      <td>5</td>\n",
       "    </tr>\n",
       "    <tr>\n",
       "      <th>1197</th>\n",
       "      <td>Estimar</td>\n",
       "      <td>HIDROELÉTRICA</td>\n",
       "      <td>maio de 2021</td>\n",
       "      <td>78860,145931617</td>\n",
       "      <td>2021</td>\n",
       "      <td>5</td>\n",
       "    </tr>\n",
       "    <tr>\n",
       "      <th>1198</th>\n",
       "      <td>Estimar</td>\n",
       "      <td>FOTOVOLTAICA</td>\n",
       "      <td>maio de 2021</td>\n",
       "      <td>2877,961423109</td>\n",
       "      <td>2021</td>\n",
       "      <td>5</td>\n",
       "    </tr>\n",
       "    <tr>\n",
       "      <th>1199</th>\n",
       "      <td>Estimar</td>\n",
       "      <td>EOLIELÉTRICA</td>\n",
       "      <td>maio de 2021</td>\n",
       "      <td>15666,530970187</td>\n",
       "      <td>2021</td>\n",
       "      <td>5</td>\n",
       "    </tr>\n",
       "  </tbody>\n",
       "</table>\n",
       "<p>1200 rows × 6 columns</p>\n",
       "</div>"
      ],
      "text/plain": [
       "     Indicador de previsões  Nom Tipousina    Mês de date Soma de Val Geracao  \\\n",
       "0                      Real        TÉRMICA  abril de 2021           16958,083   \n",
       "1                      Real        NUCLEAR  abril de 2021            1860,901   \n",
       "2                      Real  HIDROELÉTRICA  abril de 2021           80518,333   \n",
       "3                      Real   FOTOVOLTAICA  abril de 2021            2816,421   \n",
       "4                      Real   EOLIELÉTRICA  abril de 2021           15994,574   \n",
       "...                     ...            ...            ...                 ...   \n",
       "1195                Estimar        TÉRMICA   maio de 2021     16260,202004686   \n",
       "1196                Estimar        NUCLEAR   maio de 2021      1872,238044046   \n",
       "1197                Estimar  HIDROELÉTRICA   maio de 2021     78860,145931617   \n",
       "1198                Estimar   FOTOVOLTAICA   maio de 2021      2877,961423109   \n",
       "1199                Estimar   EOLIELÉTRICA   maio de 2021     15666,530970187   \n",
       "\n",
       "      year  month  \n",
       "0     2021      4  \n",
       "1     2021      4  \n",
       "2     2021      4  \n",
       "3     2021      4  \n",
       "4     2021      4  \n",
       "...    ...    ...  \n",
       "1195  2021      5  \n",
       "1196  2021      5  \n",
       "1197  2021      5  \n",
       "1198  2021      5  \n",
       "1199  2021      5  \n",
       "\n",
       "[1200 rows x 6 columns]"
      ]
     },
     "execution_count": 47,
     "metadata": {},
     "output_type": "execute_result"
    }
   ],
   "source": [
    "fortab"
   ]
  },
  {
   "cell_type": "code",
   "execution_count": 49,
   "id": "63f9b42b",
   "metadata": {},
   "outputs": [],
   "source": [
    "fortab['date'] = pd.to_datetime(fortab[['year', 'month']].assign(DAY=1))"
   ]
  },
  {
   "cell_type": "code",
   "execution_count": 50,
   "id": "7646fef1",
   "metadata": {},
   "outputs": [
    {
     "data": {
      "text/html": [
       "<div>\n",
       "<style scoped>\n",
       "    .dataframe tbody tr th:only-of-type {\n",
       "        vertical-align: middle;\n",
       "    }\n",
       "\n",
       "    .dataframe tbody tr th {\n",
       "        vertical-align: top;\n",
       "    }\n",
       "\n",
       "    .dataframe thead th {\n",
       "        text-align: right;\n",
       "    }\n",
       "</style>\n",
       "<table border=\"1\" class=\"dataframe\">\n",
       "  <thead>\n",
       "    <tr style=\"text-align: right;\">\n",
       "      <th></th>\n",
       "      <th>Indicador de previsões</th>\n",
       "      <th>Nom Tipousina</th>\n",
       "      <th>Mês de date</th>\n",
       "      <th>Soma de Val Geracao</th>\n",
       "      <th>year</th>\n",
       "      <th>month</th>\n",
       "      <th>date</th>\n",
       "    </tr>\n",
       "  </thead>\n",
       "  <tbody>\n",
       "    <tr>\n",
       "      <th>0</th>\n",
       "      <td>Real</td>\n",
       "      <td>TÉRMICA</td>\n",
       "      <td>abril de 2021</td>\n",
       "      <td>16958,083</td>\n",
       "      <td>2021</td>\n",
       "      <td>4</td>\n",
       "      <td>2021-04-01</td>\n",
       "    </tr>\n",
       "    <tr>\n",
       "      <th>1</th>\n",
       "      <td>Real</td>\n",
       "      <td>NUCLEAR</td>\n",
       "      <td>abril de 2021</td>\n",
       "      <td>1860,901</td>\n",
       "      <td>2021</td>\n",
       "      <td>4</td>\n",
       "      <td>2021-04-01</td>\n",
       "    </tr>\n",
       "    <tr>\n",
       "      <th>2</th>\n",
       "      <td>Real</td>\n",
       "      <td>HIDROELÉTRICA</td>\n",
       "      <td>abril de 2021</td>\n",
       "      <td>80518,333</td>\n",
       "      <td>2021</td>\n",
       "      <td>4</td>\n",
       "      <td>2021-04-01</td>\n",
       "    </tr>\n",
       "    <tr>\n",
       "      <th>3</th>\n",
       "      <td>Real</td>\n",
       "      <td>FOTOVOLTAICA</td>\n",
       "      <td>abril de 2021</td>\n",
       "      <td>2816,421</td>\n",
       "      <td>2021</td>\n",
       "      <td>4</td>\n",
       "      <td>2021-04-01</td>\n",
       "    </tr>\n",
       "    <tr>\n",
       "      <th>4</th>\n",
       "      <td>Real</td>\n",
       "      <td>EOLIELÉTRICA</td>\n",
       "      <td>abril de 2021</td>\n",
       "      <td>15994,574</td>\n",
       "      <td>2021</td>\n",
       "      <td>4</td>\n",
       "      <td>2021-04-01</td>\n",
       "    </tr>\n",
       "    <tr>\n",
       "      <th>...</th>\n",
       "      <td>...</td>\n",
       "      <td>...</td>\n",
       "      <td>...</td>\n",
       "      <td>...</td>\n",
       "      <td>...</td>\n",
       "      <td>...</td>\n",
       "      <td>...</td>\n",
       "    </tr>\n",
       "    <tr>\n",
       "      <th>1195</th>\n",
       "      <td>Estimar</td>\n",
       "      <td>TÉRMICA</td>\n",
       "      <td>maio de 2021</td>\n",
       "      <td>16260,202004686</td>\n",
       "      <td>2021</td>\n",
       "      <td>5</td>\n",
       "      <td>2021-05-01</td>\n",
       "    </tr>\n",
       "    <tr>\n",
       "      <th>1196</th>\n",
       "      <td>Estimar</td>\n",
       "      <td>NUCLEAR</td>\n",
       "      <td>maio de 2021</td>\n",
       "      <td>1872,238044046</td>\n",
       "      <td>2021</td>\n",
       "      <td>5</td>\n",
       "      <td>2021-05-01</td>\n",
       "    </tr>\n",
       "    <tr>\n",
       "      <th>1197</th>\n",
       "      <td>Estimar</td>\n",
       "      <td>HIDROELÉTRICA</td>\n",
       "      <td>maio de 2021</td>\n",
       "      <td>78860,145931617</td>\n",
       "      <td>2021</td>\n",
       "      <td>5</td>\n",
       "      <td>2021-05-01</td>\n",
       "    </tr>\n",
       "    <tr>\n",
       "      <th>1198</th>\n",
       "      <td>Estimar</td>\n",
       "      <td>FOTOVOLTAICA</td>\n",
       "      <td>maio de 2021</td>\n",
       "      <td>2877,961423109</td>\n",
       "      <td>2021</td>\n",
       "      <td>5</td>\n",
       "      <td>2021-05-01</td>\n",
       "    </tr>\n",
       "    <tr>\n",
       "      <th>1199</th>\n",
       "      <td>Estimar</td>\n",
       "      <td>EOLIELÉTRICA</td>\n",
       "      <td>maio de 2021</td>\n",
       "      <td>15666,530970187</td>\n",
       "      <td>2021</td>\n",
       "      <td>5</td>\n",
       "      <td>2021-05-01</td>\n",
       "    </tr>\n",
       "  </tbody>\n",
       "</table>\n",
       "<p>1200 rows × 7 columns</p>\n",
       "</div>"
      ],
      "text/plain": [
       "     Indicador de previsões  Nom Tipousina    Mês de date Soma de Val Geracao  \\\n",
       "0                      Real        TÉRMICA  abril de 2021           16958,083   \n",
       "1                      Real        NUCLEAR  abril de 2021            1860,901   \n",
       "2                      Real  HIDROELÉTRICA  abril de 2021           80518,333   \n",
       "3                      Real   FOTOVOLTAICA  abril de 2021            2816,421   \n",
       "4                      Real   EOLIELÉTRICA  abril de 2021           15994,574   \n",
       "...                     ...            ...            ...                 ...   \n",
       "1195                Estimar        TÉRMICA   maio de 2021     16260,202004686   \n",
       "1196                Estimar        NUCLEAR   maio de 2021      1872,238044046   \n",
       "1197                Estimar  HIDROELÉTRICA   maio de 2021     78860,145931617   \n",
       "1198                Estimar   FOTOVOLTAICA   maio de 2021      2877,961423109   \n",
       "1199                Estimar   EOLIELÉTRICA   maio de 2021     15666,530970187   \n",
       "\n",
       "      year  month       date  \n",
       "0     2021      4 2021-04-01  \n",
       "1     2021      4 2021-04-01  \n",
       "2     2021      4 2021-04-01  \n",
       "3     2021      4 2021-04-01  \n",
       "4     2021      4 2021-04-01  \n",
       "...    ...    ...        ...  \n",
       "1195  2021      5 2021-05-01  \n",
       "1196  2021      5 2021-05-01  \n",
       "1197  2021      5 2021-05-01  \n",
       "1198  2021      5 2021-05-01  \n",
       "1199  2021      5 2021-05-01  \n",
       "\n",
       "[1200 rows x 7 columns]"
      ]
     },
     "execution_count": 50,
     "metadata": {},
     "output_type": "execute_result"
    }
   ],
   "source": [
    "fortab"
   ]
  },
  {
   "cell_type": "code",
   "execution_count": 51,
   "id": "b45eac3e",
   "metadata": {},
   "outputs": [],
   "source": [
    "fortab.to_csv('forecast_tableau.csv',sep=';',index=False)"
   ]
  },
  {
   "cell_type": "markdown",
   "id": "ab0062fb",
   "metadata": {},
   "source": [
    "## Autoregressive Integrated Moving Average (ARIMA)\n",
    "\n"
   ]
  },
  {
   "cell_type": "code",
   "execution_count": 52,
   "id": "3a55852e",
   "metadata": {},
   "outputs": [],
   "source": [
    "#Data is stationary?????????????????"
   ]
  },
  {
   "cell_type": "markdown",
   "id": "e1b6c7a5",
   "metadata": {},
   "source": [
    "To use ARIMA, we need to determine the values for its parameter: p, d, q\n",
    "\n",
    "- p: the order of the AR term (AR: Auto-Regressive)\n",
    "- d: the number of differencing\n",
    "- q: the order of the MA term (MA: Moving Average)\n",
    "\n",
    "ARIMA requires the dataset to be “stationary” in order for the model to produce accurate predictions. "
   ]
  },
  {
   "cell_type": "code",
   "execution_count": 53,
   "id": "677b25d6",
   "metadata": {},
   "outputs": [],
   "source": [
    "from statsmodels.tsa.arima.model import ARIMA"
   ]
  },
  {
   "cell_type": "code",
   "execution_count": 54,
   "id": "51e5c057",
   "metadata": {},
   "outputs": [],
   "source": [
    "df = pd.read_csv('dfcleanenergy.csv',sep=';')"
   ]
  },
  {
   "cell_type": "code",
   "execution_count": 55,
   "id": "ad66609d",
   "metadata": {},
   "outputs": [],
   "source": [
    "df = df[['date', 'val_capacidadeinstalada']]"
   ]
  },
  {
   "cell_type": "code",
   "execution_count": 56,
   "id": "7a5f6044",
   "metadata": {},
   "outputs": [
    {
     "data": {
      "text/plain": [
       "(126, 2)"
      ]
     },
     "execution_count": 56,
     "metadata": {},
     "output_type": "execute_result"
    }
   ],
   "source": [
    "df.shape"
   ]
  },
  {
   "cell_type": "code",
   "execution_count": 57,
   "id": "e66f1e70",
   "metadata": {},
   "outputs": [
    {
     "data": {
      "text/html": [
       "<div>\n",
       "<style scoped>\n",
       "    .dataframe tbody tr th:only-of-type {\n",
       "        vertical-align: middle;\n",
       "    }\n",
       "\n",
       "    .dataframe tbody tr th {\n",
       "        vertical-align: top;\n",
       "    }\n",
       "\n",
       "    .dataframe thead th {\n",
       "        text-align: right;\n",
       "    }\n",
       "</style>\n",
       "<table border=\"1\" class=\"dataframe\">\n",
       "  <thead>\n",
       "    <tr style=\"text-align: right;\">\n",
       "      <th></th>\n",
       "      <th>date</th>\n",
       "      <th>val_capacidadeinstalada</th>\n",
       "    </tr>\n",
       "  </thead>\n",
       "  <tbody>\n",
       "    <tr>\n",
       "      <th>0</th>\n",
       "      <td>2012-01-01</td>\n",
       "      <td>348.90</td>\n",
       "    </tr>\n",
       "    <tr>\n",
       "      <th>1</th>\n",
       "      <td>2012-02-01</td>\n",
       "      <td>363.75</td>\n",
       "    </tr>\n",
       "    <tr>\n",
       "      <th>2</th>\n",
       "      <td>2012-03-01</td>\n",
       "      <td>363.75</td>\n",
       "    </tr>\n",
       "    <tr>\n",
       "      <th>3</th>\n",
       "      <td>2012-04-01</td>\n",
       "      <td>363.75</td>\n",
       "    </tr>\n",
       "    <tr>\n",
       "      <th>4</th>\n",
       "      <td>2012-05-01</td>\n",
       "      <td>363.75</td>\n",
       "    </tr>\n",
       "  </tbody>\n",
       "</table>\n",
       "</div>"
      ],
      "text/plain": [
       "         date  val_capacidadeinstalada\n",
       "0  2012-01-01                   348.90\n",
       "1  2012-02-01                   363.75\n",
       "2  2012-03-01                   363.75\n",
       "3  2012-04-01                   363.75\n",
       "4  2012-05-01                   363.75"
      ]
     },
     "execution_count": 57,
     "metadata": {},
     "output_type": "execute_result"
    }
   ],
   "source": [
    "df.head()"
   ]
  },
  {
   "cell_type": "code",
   "execution_count": 58,
   "id": "ae6d5937",
   "metadata": {},
   "outputs": [
    {
     "data": {
      "text/html": [
       "<div>\n",
       "<style scoped>\n",
       "    .dataframe tbody tr th:only-of-type {\n",
       "        vertical-align: middle;\n",
       "    }\n",
       "\n",
       "    .dataframe tbody tr th {\n",
       "        vertical-align: top;\n",
       "    }\n",
       "\n",
       "    .dataframe thead th {\n",
       "        text-align: right;\n",
       "    }\n",
       "</style>\n",
       "<table border=\"1\" class=\"dataframe\">\n",
       "  <thead>\n",
       "    <tr style=\"text-align: right;\">\n",
       "      <th></th>\n",
       "      <th>date</th>\n",
       "      <th>val_capacidadeinstalada</th>\n",
       "    </tr>\n",
       "  </thead>\n",
       "  <tbody>\n",
       "    <tr>\n",
       "      <th>0</th>\n",
       "      <td>2012-01-01</td>\n",
       "      <td>348.900000</td>\n",
       "    </tr>\n",
       "    <tr>\n",
       "      <th>1</th>\n",
       "      <td>2012-02-01</td>\n",
       "      <td>363.750000</td>\n",
       "    </tr>\n",
       "    <tr>\n",
       "      <th>2</th>\n",
       "      <td>2012-03-01</td>\n",
       "      <td>363.750000</td>\n",
       "    </tr>\n",
       "    <tr>\n",
       "      <th>3</th>\n",
       "      <td>2012-04-01</td>\n",
       "      <td>363.750000</td>\n",
       "    </tr>\n",
       "    <tr>\n",
       "      <th>4</th>\n",
       "      <td>2012-05-01</td>\n",
       "      <td>363.750000</td>\n",
       "    </tr>\n",
       "    <tr>\n",
       "      <th>...</th>\n",
       "      <td>...</td>\n",
       "      <td>...</td>\n",
       "    </tr>\n",
       "    <tr>\n",
       "      <th>121</th>\n",
       "      <td>2022-02-01</td>\n",
       "      <td>23737.757533</td>\n",
       "    </tr>\n",
       "    <tr>\n",
       "      <th>122</th>\n",
       "      <td>2022-03-01</td>\n",
       "      <td>24022.757533</td>\n",
       "    </tr>\n",
       "    <tr>\n",
       "      <th>123</th>\n",
       "      <td>2022-04-01</td>\n",
       "      <td>24143.001533</td>\n",
       "    </tr>\n",
       "    <tr>\n",
       "      <th>124</th>\n",
       "      <td>2022-05-01</td>\n",
       "      <td>24907.181533</td>\n",
       "    </tr>\n",
       "    <tr>\n",
       "      <th>125</th>\n",
       "      <td>2022-06-01</td>\n",
       "      <td>25201.581533</td>\n",
       "    </tr>\n",
       "  </tbody>\n",
       "</table>\n",
       "<p>126 rows × 2 columns</p>\n",
       "</div>"
      ],
      "text/plain": [
       "           date  val_capacidadeinstalada\n",
       "0    2012-01-01               348.900000\n",
       "1    2012-02-01               363.750000\n",
       "2    2012-03-01               363.750000\n",
       "3    2012-04-01               363.750000\n",
       "4    2012-05-01               363.750000\n",
       "..          ...                      ...\n",
       "121  2022-02-01             23737.757533\n",
       "122  2022-03-01             24022.757533\n",
       "123  2022-04-01             24143.001533\n",
       "124  2022-05-01             24907.181533\n",
       "125  2022-06-01             25201.581533\n",
       "\n",
       "[126 rows x 2 columns]"
      ]
     },
     "execution_count": 58,
     "metadata": {},
     "output_type": "execute_result"
    }
   ],
   "source": [
    "df"
   ]
  },
  {
   "cell_type": "markdown",
   "id": "eda39d9c",
   "metadata": {},
   "source": [
    "Splitting Data for Training and Testing\n",
    "\n",
    "An important part of model building is splitting our data for training and testing. Splitting data for training and testing ensures that you build a model that can generalize outside of the training data and it ensures that the performance and outputs are statistically meaningful.\n",
    "\n",
    "Spliting: 80% for traind and 20% for test\n",
    "80% of 11 years: 9 years for traind and 2 years for test\n",
    "\n",
    "We will split our data such that everything before November 2020 will serve as training data, with everything after 2020 becoming the testing data:"
   ]
  },
  {
   "cell_type": "code",
   "execution_count": 59,
   "id": "70ca0ace",
   "metadata": {},
   "outputs": [
    {
     "data": {
      "text/plain": [
       "dtype('O')"
      ]
     },
     "execution_count": 59,
     "metadata": {},
     "output_type": "execute_result"
    }
   ],
   "source": [
    "df.date.dtypes"
   ]
  },
  {
   "cell_type": "code",
   "execution_count": 60,
   "id": "4fc491ec",
   "metadata": {},
   "outputs": [],
   "source": [
    "df['date'] =  pd.to_datetime(df['date'], format='%Y-%m-%d')"
   ]
  },
  {
   "cell_type": "code",
   "execution_count": 61,
   "id": "3c68c9da",
   "metadata": {},
   "outputs": [],
   "source": [
    "train = df[df.date < pd.to_datetime(\"2020-11-01\", format='%Y-%m-%d')]"
   ]
  },
  {
   "cell_type": "code",
   "execution_count": 62,
   "id": "d5fa29dc",
   "metadata": {},
   "outputs": [],
   "source": [
    "test = df[df.date > pd.to_datetime(\"2020-11-01\", format='%Y-%m-%d')]"
   ]
  },
  {
   "cell_type": "code",
   "execution_count": 63,
   "id": "0f6b3490",
   "metadata": {},
   "outputs": [
    {
     "data": {
      "text/html": [
       "<div>\n",
       "<style scoped>\n",
       "    .dataframe tbody tr th:only-of-type {\n",
       "        vertical-align: middle;\n",
       "    }\n",
       "\n",
       "    .dataframe tbody tr th {\n",
       "        vertical-align: top;\n",
       "    }\n",
       "\n",
       "    .dataframe thead th {\n",
       "        text-align: right;\n",
       "    }\n",
       "</style>\n",
       "<table border=\"1\" class=\"dataframe\">\n",
       "  <thead>\n",
       "    <tr style=\"text-align: right;\">\n",
       "      <th></th>\n",
       "      <th>date</th>\n",
       "      <th>val_capacidadeinstalada</th>\n",
       "    </tr>\n",
       "  </thead>\n",
       "  <tbody>\n",
       "    <tr>\n",
       "      <th>0</th>\n",
       "      <td>2012-01-01</td>\n",
       "      <td>348.900000</td>\n",
       "    </tr>\n",
       "    <tr>\n",
       "      <th>1</th>\n",
       "      <td>2012-02-01</td>\n",
       "      <td>363.750000</td>\n",
       "    </tr>\n",
       "    <tr>\n",
       "      <th>2</th>\n",
       "      <td>2012-03-01</td>\n",
       "      <td>363.750000</td>\n",
       "    </tr>\n",
       "    <tr>\n",
       "      <th>3</th>\n",
       "      <td>2012-04-01</td>\n",
       "      <td>363.750000</td>\n",
       "    </tr>\n",
       "    <tr>\n",
       "      <th>4</th>\n",
       "      <td>2012-05-01</td>\n",
       "      <td>363.750000</td>\n",
       "    </tr>\n",
       "    <tr>\n",
       "      <th>...</th>\n",
       "      <td>...</td>\n",
       "      <td>...</td>\n",
       "    </tr>\n",
       "    <tr>\n",
       "      <th>101</th>\n",
       "      <td>2020-06-01</td>\n",
       "      <td>17531.434533</td>\n",
       "    </tr>\n",
       "    <tr>\n",
       "      <th>102</th>\n",
       "      <td>2020-07-01</td>\n",
       "      <td>17826.946533</td>\n",
       "    </tr>\n",
       "    <tr>\n",
       "      <th>103</th>\n",
       "      <td>2020-08-01</td>\n",
       "      <td>18193.690533</td>\n",
       "    </tr>\n",
       "    <tr>\n",
       "      <th>104</th>\n",
       "      <td>2020-09-01</td>\n",
       "      <td>18310.360533</td>\n",
       "    </tr>\n",
       "    <tr>\n",
       "      <th>105</th>\n",
       "      <td>2020-10-01</td>\n",
       "      <td>18514.525533</td>\n",
       "    </tr>\n",
       "  </tbody>\n",
       "</table>\n",
       "<p>106 rows × 2 columns</p>\n",
       "</div>"
      ],
      "text/plain": [
       "          date  val_capacidadeinstalada\n",
       "0   2012-01-01               348.900000\n",
       "1   2012-02-01               363.750000\n",
       "2   2012-03-01               363.750000\n",
       "3   2012-04-01               363.750000\n",
       "4   2012-05-01               363.750000\n",
       "..         ...                      ...\n",
       "101 2020-06-01             17531.434533\n",
       "102 2020-07-01             17826.946533\n",
       "103 2020-08-01             18193.690533\n",
       "104 2020-09-01             18310.360533\n",
       "105 2020-10-01             18514.525533\n",
       "\n",
       "[106 rows x 2 columns]"
      ]
     },
     "execution_count": 63,
     "metadata": {},
     "output_type": "execute_result"
    }
   ],
   "source": [
    "train"
   ]
  },
  {
   "cell_type": "code",
   "execution_count": 64,
   "id": "54ab89a8",
   "metadata": {},
   "outputs": [
    {
     "data": {
      "text/plain": [
       "126"
      ]
     },
     "execution_count": 64,
     "metadata": {},
     "output_type": "execute_result"
    }
   ],
   "source": [
    "len(df)"
   ]
  },
  {
   "cell_type": "code",
   "execution_count": 65,
   "id": "fb56ffbb",
   "metadata": {},
   "outputs": [
    {
     "data": {
      "text/plain": [
       "106"
      ]
     },
     "execution_count": 65,
     "metadata": {},
     "output_type": "execute_result"
    }
   ],
   "source": [
    "len(train)"
   ]
  },
  {
   "cell_type": "code",
   "execution_count": 66,
   "id": "c5181616",
   "metadata": {},
   "outputs": [
    {
     "data": {
      "text/plain": [
       "19"
      ]
     },
     "execution_count": 66,
     "metadata": {},
     "output_type": "execute_result"
    }
   ],
   "source": [
    "len(test)"
   ]
  },
  {
   "cell_type": "code",
   "execution_count": 67,
   "id": "a81854b1",
   "metadata": {},
   "outputs": [
    {
     "data": {
      "text/plain": [
       "84.12698412698413"
      ]
     },
     "execution_count": 67,
     "metadata": {},
     "output_type": "execute_result"
    }
   ],
   "source": [
    "perctrain = len(train)*100/len(df)\n",
    "perctrain"
   ]
  },
  {
   "cell_type": "code",
   "execution_count": 68,
   "id": "732ae2b7",
   "metadata": {},
   "outputs": [
    {
     "data": {
      "text/plain": [
       "15.079365079365079"
      ]
     },
     "execution_count": 68,
     "metadata": {},
     "output_type": "execute_result"
    }
   ],
   "source": [
    "perctest = len(test)*100/len(df)\n",
    "perctest"
   ]
  },
  {
   "cell_type": "code",
   "execution_count": 69,
   "id": "d32c63cf",
   "metadata": {
    "scrolled": true
   },
   "outputs": [
    {
     "data": {
      "text/html": [
       "<div>\n",
       "<style scoped>\n",
       "    .dataframe tbody tr th:only-of-type {\n",
       "        vertical-align: middle;\n",
       "    }\n",
       "\n",
       "    .dataframe tbody tr th {\n",
       "        vertical-align: top;\n",
       "    }\n",
       "\n",
       "    .dataframe thead th {\n",
       "        text-align: right;\n",
       "    }\n",
       "</style>\n",
       "<table border=\"1\" class=\"dataframe\">\n",
       "  <thead>\n",
       "    <tr style=\"text-align: right;\">\n",
       "      <th></th>\n",
       "      <th>date</th>\n",
       "      <th>val_capacidadeinstalada</th>\n",
       "    </tr>\n",
       "  </thead>\n",
       "  <tbody>\n",
       "    <tr>\n",
       "      <th>0</th>\n",
       "      <td>2012-01-01</td>\n",
       "      <td>348.900000</td>\n",
       "    </tr>\n",
       "    <tr>\n",
       "      <th>1</th>\n",
       "      <td>2012-02-01</td>\n",
       "      <td>363.750000</td>\n",
       "    </tr>\n",
       "    <tr>\n",
       "      <th>2</th>\n",
       "      <td>2012-03-01</td>\n",
       "      <td>363.750000</td>\n",
       "    </tr>\n",
       "    <tr>\n",
       "      <th>3</th>\n",
       "      <td>2012-04-01</td>\n",
       "      <td>363.750000</td>\n",
       "    </tr>\n",
       "    <tr>\n",
       "      <th>4</th>\n",
       "      <td>2012-05-01</td>\n",
       "      <td>363.750000</td>\n",
       "    </tr>\n",
       "    <tr>\n",
       "      <th>...</th>\n",
       "      <td>...</td>\n",
       "      <td>...</td>\n",
       "    </tr>\n",
       "    <tr>\n",
       "      <th>101</th>\n",
       "      <td>2020-06-01</td>\n",
       "      <td>17531.434533</td>\n",
       "    </tr>\n",
       "    <tr>\n",
       "      <th>102</th>\n",
       "      <td>2020-07-01</td>\n",
       "      <td>17826.946533</td>\n",
       "    </tr>\n",
       "    <tr>\n",
       "      <th>103</th>\n",
       "      <td>2020-08-01</td>\n",
       "      <td>18193.690533</td>\n",
       "    </tr>\n",
       "    <tr>\n",
       "      <th>104</th>\n",
       "      <td>2020-09-01</td>\n",
       "      <td>18310.360533</td>\n",
       "    </tr>\n",
       "    <tr>\n",
       "      <th>105</th>\n",
       "      <td>2020-10-01</td>\n",
       "      <td>18514.525533</td>\n",
       "    </tr>\n",
       "  </tbody>\n",
       "</table>\n",
       "<p>106 rows × 2 columns</p>\n",
       "</div>"
      ],
      "text/plain": [
       "          date  val_capacidadeinstalada\n",
       "0   2012-01-01               348.900000\n",
       "1   2012-02-01               363.750000\n",
       "2   2012-03-01               363.750000\n",
       "3   2012-04-01               363.750000\n",
       "4   2012-05-01               363.750000\n",
       "..         ...                      ...\n",
       "101 2020-06-01             17531.434533\n",
       "102 2020-07-01             17826.946533\n",
       "103 2020-08-01             18193.690533\n",
       "104 2020-09-01             18310.360533\n",
       "105 2020-10-01             18514.525533\n",
       "\n",
       "[106 rows x 2 columns]"
      ]
     },
     "execution_count": 69,
     "metadata": {},
     "output_type": "execute_result"
    }
   ],
   "source": [
    "train.reset_index(drop=True)"
   ]
  },
  {
   "cell_type": "code",
   "execution_count": 70,
   "id": "707f8561",
   "metadata": {},
   "outputs": [
    {
     "data": {
      "image/png": "[encoded data removed]",
      "text/plain": [
       "<Figure size 864x432 with 1 Axes>"
      ]
     },
     "metadata": {
      "needs_background": "light"
     },
     "output_type": "display_data"
    }
   ],
   "source": [
    "plt.figure(figsize=(12,6))\n",
    "plt.plot(train.date, train.val_capacidadeinstalada, color = \"orange\", label='train')\n",
    "plt.plot(test.date,test.val_capacidadeinstalada, color = \"blue\", label='test')\n",
    "plt.ylabel(\"Capacidade Instalada\")\n",
    "plt.xlabel(\"Date\")\n",
    "plt.title(\"Train/Test split for Capacidade Instalada/Date\")\n",
    "plt.legend()\n",
    "plt.show()"
   ]
  },
  {
   "cell_type": "markdown",
   "id": "6cf5bcbf",
   "metadata": {},
   "source": [
    "An ARIMA task has three parameters. The first parameter corresponds to the lagging (past values), the second corresponds to differencing (this is what makes non-stationary data stationary), and the last parameter corresponds to the white noise (for modeling shock events).\n",
    "\n",
    "Let’s define an ARIMA model with order parameters (2,2,2):"
   ]
  },
  {
   "cell_type": "code",
   "execution_count": 71,
   "id": "4000a5b2",
   "metadata": {},
   "outputs": [],
   "source": [
    "y = train[\"val_capacidadeinstalada\"]"
   ]
  },
  {
   "cell_type": "code",
   "execution_count": 72,
   "id": "7828c58f",
   "metadata": {},
   "outputs": [],
   "source": [
    "ARIMAmodel = ARIMA(y, order = (2, 2, 2))\n",
    "ARIMAmodel = ARIMAmodel.fit()"
   ]
  },
  {
   "cell_type": "code",
   "execution_count": 73,
   "id": "05b4e37b",
   "metadata": {},
   "outputs": [],
   "source": [
    "y_pred = ARIMAmodel.get_forecast(len(test.index))\n",
    "y_pred_df = y_pred.conf_int(alpha = 0.05)\n",
    "y_pred_df['Predictions'] = ARIMAmodel.predict(start = y_pred_df.index[0], end = y_pred_df.index[-1])\n",
    "y_pred_df.index = test.index\n",
    "y_pred_out = y_pred_df[\"Predictions\"]"
   ]
  },
  {
   "cell_type": "code",
   "execution_count": 74,
   "id": "61efeb45",
   "metadata": {
    "scrolled": true
   },
   "outputs": [
    {
     "data": {
      "text/html": [
       "<div>\n",
       "<style scoped>\n",
       "    .dataframe tbody tr th:only-of-type {\n",
       "        vertical-align: middle;\n",
       "    }\n",
       "\n",
       "    .dataframe tbody tr th {\n",
       "        vertical-align: top;\n",
       "    }\n",
       "\n",
       "    .dataframe thead th {\n",
       "        text-align: right;\n",
       "    }\n",
       "</style>\n",
       "<table border=\"1\" class=\"dataframe\">\n",
       "  <thead>\n",
       "    <tr style=\"text-align: right;\">\n",
       "      <th></th>\n",
       "      <th>lower val_capacidadeinstalada</th>\n",
       "      <th>upper val_capacidadeinstalada</th>\n",
       "      <th>Predictions</th>\n",
       "    </tr>\n",
       "  </thead>\n",
       "  <tbody>\n",
       "    <tr>\n",
       "      <th>107</th>\n",
       "      <td>18343.573131</td>\n",
       "      <td>19067.896035</td>\n",
       "      <td>18705.734583</td>\n",
       "    </tr>\n",
       "    <tr>\n",
       "      <th>108</th>\n",
       "      <td>18293.200863</td>\n",
       "      <td>19494.452738</td>\n",
       "      <td>18893.826800</td>\n",
       "    </tr>\n",
       "    <tr>\n",
       "      <th>109</th>\n",
       "      <td>18267.520797</td>\n",
       "      <td>19893.953554</td>\n",
       "      <td>19080.737175</td>\n",
       "    </tr>\n",
       "    <tr>\n",
       "      <th>110</th>\n",
       "      <td>18254.039581</td>\n",
       "      <td>20279.983285</td>\n",
       "      <td>19267.011433</td>\n",
       "    </tr>\n",
       "    <tr>\n",
       "      <th>111</th>\n",
       "      <td>18247.218440</td>\n",
       "      <td>20658.564379</td>\n",
       "      <td>19452.891410</td>\n",
       "    </tr>\n",
       "    <tr>\n",
       "      <th>112</th>\n",
       "      <td>18244.181552</td>\n",
       "      <td>21032.852264</td>\n",
       "      <td>19638.516908</td>\n",
       "    </tr>\n",
       "    <tr>\n",
       "      <th>113</th>\n",
       "      <td>18243.207505</td>\n",
       "      <td>21404.745406</td>\n",
       "      <td>19823.976455</td>\n",
       "    </tr>\n",
       "    <tr>\n",
       "      <th>114</th>\n",
       "      <td>18243.149727</td>\n",
       "      <td>21775.505286</td>\n",
       "      <td>20009.327506</td>\n",
       "    </tr>\n",
       "    <tr>\n",
       "      <th>115</th>\n",
       "      <td>18243.190271</td>\n",
       "      <td>22146.024886</td>\n",
       "      <td>20194.607579</td>\n",
       "    </tr>\n",
       "    <tr>\n",
       "      <th>116</th>\n",
       "      <td>18242.721304</td>\n",
       "      <td>22516.961117</td>\n",
       "      <td>20379.841210</td>\n",
       "    </tr>\n",
       "    <tr>\n",
       "      <th>117</th>\n",
       "      <td>18241.280313</td>\n",
       "      <td>22888.808597</td>\n",
       "      <td>20565.044455</td>\n",
       "    </tr>\n",
       "    <tr>\n",
       "      <th>118</th>\n",
       "      <td>18238.510556</td>\n",
       "      <td>23261.945076</td>\n",
       "      <td>20750.227816</td>\n",
       "    </tr>\n",
       "    <tr>\n",
       "      <th>119</th>\n",
       "      <td>18234.134783</td>\n",
       "      <td>23636.661552</td>\n",
       "      <td>20935.398168</td>\n",
       "    </tr>\n",
       "    <tr>\n",
       "      <th>120</th>\n",
       "      <td>18227.936715</td>\n",
       "      <td>24013.183297</td>\n",
       "      <td>21120.560006</td>\n",
       "    </tr>\n",
       "    <tr>\n",
       "      <th>121</th>\n",
       "      <td>18219.747471</td>\n",
       "      <td>24391.685078</td>\n",
       "      <td>21305.716274</td>\n",
       "    </tr>\n",
       "    <tr>\n",
       "      <th>122</th>\n",
       "      <td>18209.435352</td>\n",
       "      <td>24772.302443</td>\n",
       "      <td>21490.868898</td>\n",
       "    </tr>\n",
       "    <tr>\n",
       "      <th>123</th>\n",
       "      <td>18196.898035</td>\n",
       "      <td>25155.140237</td>\n",
       "      <td>21676.019136</td>\n",
       "    </tr>\n",
       "    <tr>\n",
       "      <th>124</th>\n",
       "      <td>18182.056520</td>\n",
       "      <td>25540.279108</td>\n",
       "      <td>21861.167814</td>\n",
       "    </tr>\n",
       "    <tr>\n",
       "      <th>125</th>\n",
       "      <td>18164.850414</td>\n",
       "      <td>25927.780528</td>\n",
       "      <td>22046.315471</td>\n",
       "    </tr>\n",
       "  </tbody>\n",
       "</table>\n",
       "</div>"
      ],
      "text/plain": [
       "     lower val_capacidadeinstalada  upper val_capacidadeinstalada  \\\n",
       "107                   18343.573131                   19067.896035   \n",
       "108                   18293.200863                   19494.452738   \n",
       "109                   18267.520797                   19893.953554   \n",
       "110                   18254.039581                   20279.983285   \n",
       "111                   18247.218440                   20658.564379   \n",
       "112                   18244.181552                   21032.852264   \n",
       "113                   18243.207505                   21404.745406   \n",
       "114                   18243.149727                   21775.505286   \n",
       "115                   18243.190271                   22146.024886   \n",
       "116                   18242.721304                   22516.961117   \n",
       "117                   18241.280313                   22888.808597   \n",
       "118                   18238.510556                   23261.945076   \n",
       "119                   18234.134783                   23636.661552   \n",
       "120                   18227.936715                   24013.183297   \n",
       "121                   18219.747471                   24391.685078   \n",
       "122                   18209.435352                   24772.302443   \n",
       "123                   18196.898035                   25155.140237   \n",
       "124                   18182.056520                   25540.279108   \n",
       "125                   18164.850414                   25927.780528   \n",
       "\n",
       "      Predictions  \n",
       "107  18705.734583  \n",
       "108  18893.826800  \n",
       "109  19080.737175  \n",
       "110  19267.011433  \n",
       "111  19452.891410  \n",
       "112  19638.516908  \n",
       "113  19823.976455  \n",
       "114  20009.327506  \n",
       "115  20194.607579  \n",
       "116  20379.841210  \n",
       "117  20565.044455  \n",
       "118  20750.227816  \n",
       "119  20935.398168  \n",
       "120  21120.560006  \n",
       "121  21305.716274  \n",
       "122  21490.868898  \n",
       "123  21676.019136  \n",
       "124  21861.167814  \n",
       "125  22046.315471  "
      ]
     },
     "execution_count": 74,
     "metadata": {},
     "output_type": "execute_result"
    }
   ],
   "source": [
    "y_pred_df"
   ]
  },
  {
   "cell_type": "code",
   "execution_count": 75,
   "id": "8696f7b0",
   "metadata": {},
   "outputs": [
    {
     "data": {
      "image/png": "[encoded data removed]",
      "text/plain": [
       "<Figure size 864x432 with 1 Axes>"
      ]
     },
     "metadata": {
      "needs_background": "light"
     },
     "output_type": "display_data"
    }
   ],
   "source": [
    "plt.figure(figsize=(12,6))\n",
    "plt.plot(train.date, train.val_capacidadeinstalada, color = \"orange\", label='train')\n",
    "plt.plot(test.date, test.val_capacidadeinstalada, color = \"blue\", label='test')\n",
    "plt.plot(test.date, y_pred_out, color=\"red\", label = \"ARIMA Predictions\")\n",
    "plt.ylabel(\"Capacidade Instalada\")\n",
    "plt.xlabel(\"Date\")\n",
    "plt.title(\"Train/Test split for Capacidade Instalada/Date\")\n",
    "plt.legend()\n",
    "plt.show()"
   ]
  },
  {
   "cell_type": "code",
   "execution_count": 76,
   "id": "c0dfed2d",
   "metadata": {},
   "outputs": [],
   "source": [
    "arma_rmse = np.sqrt(mean_squared_error(test[\"val_capacidadeinstalada\"].values, y_pred_df[\"Predictions\"]))"
   ]
  },
  {
   "cell_type": "code",
   "execution_count": 77,
   "id": "231818d5",
   "metadata": {},
   "outputs": [
    {
     "data": {
      "text/plain": [
       "2139.2886047089205"
      ]
     },
     "execution_count": 77,
     "metadata": {},
     "output_type": "execute_result"
    }
   ],
   "source": [
    "arma_rmse"
   ]
  },
  {
   "cell_type": "markdown",
   "id": "5f04c0bf",
   "metadata": {},
   "source": [
    "##  Let’s try increasing the differencing parameter to ARIMA (4,4,1):"
   ]
  },
  {
   "cell_type": "code",
   "execution_count": 78,
   "id": "a1b5c3be",
   "metadata": {},
   "outputs": [
    {
     "name": "stderr",
     "output_type": "stream",
     "text": [
      "C:\\Users\\carol\\anaconda3\\lib\\site-packages\\statsmodels\\tsa\\statespace\\sarimax.py:978: UserWarning: Non-invertible starting MA parameters found. Using zeros as starting parameters.\n",
      "  warn('Non-invertible starting MA parameters found.'\n"
     ]
    }
   ],
   "source": [
    "ARIMAmodel = ARIMA(y, order = (4, 4, 1))\n",
    "ARIMAmodel = ARIMAmodel.fit()\n",
    "y_pred = ARIMAmodel.get_forecast(len(test.index))\n",
    "y_pred_df = y_pred.conf_int(alpha = 0.05)\n",
    "y_pred_df['Predictions'] = ARIMAmodel.predict(start = y_pred_df.index[0], end = y_pred_df.index[-1])\n",
    "y_pred_df.index = test.index\n",
    "y_pred_out = y_pred_df[\"Predictions\"]"
   ]
  },
  {
   "cell_type": "code",
   "execution_count": 79,
   "id": "2e6e4c27",
   "metadata": {},
   "outputs": [
    {
     "data": {
      "text/html": [
       "<div>\n",
       "<style scoped>\n",
       "    .dataframe tbody tr th:only-of-type {\n",
       "        vertical-align: middle;\n",
       "    }\n",
       "\n",
       "    .dataframe tbody tr th {\n",
       "        vertical-align: top;\n",
       "    }\n",
       "\n",
       "    .dataframe thead th {\n",
       "        text-align: right;\n",
       "    }\n",
       "</style>\n",
       "<table border=\"1\" class=\"dataframe\">\n",
       "  <thead>\n",
       "    <tr style=\"text-align: right;\">\n",
       "      <th></th>\n",
       "      <th>lower val_capacidadeinstalada</th>\n",
       "      <th>upper val_capacidadeinstalada</th>\n",
       "      <th>Predictions</th>\n",
       "    </tr>\n",
       "  </thead>\n",
       "  <tbody>\n",
       "    <tr>\n",
       "      <th>107</th>\n",
       "      <td>18388.588190</td>\n",
       "      <td>19274.703309</td>\n",
       "      <td>18831.645749</td>\n",
       "    </tr>\n",
       "    <tr>\n",
       "      <th>108</th>\n",
       "      <td>18230.248445</td>\n",
       "      <td>20050.378425</td>\n",
       "      <td>19140.313435</td>\n",
       "    </tr>\n",
       "    <tr>\n",
       "      <th>109</th>\n",
       "      <td>17880.627650</td>\n",
       "      <td>20886.379144</td>\n",
       "      <td>19383.503397</td>\n",
       "    </tr>\n",
       "    <tr>\n",
       "      <th>110</th>\n",
       "      <td>17350.216837</td>\n",
       "      <td>21957.671122</td>\n",
       "      <td>19653.943980</td>\n",
       "    </tr>\n",
       "    <tr>\n",
       "      <th>111</th>\n",
       "      <td>16622.924004</td>\n",
       "      <td>23367.354317</td>\n",
       "      <td>19995.139160</td>\n",
       "    </tr>\n",
       "    <tr>\n",
       "      <th>112</th>\n",
       "      <td>15640.557643</td>\n",
       "      <td>25015.720535</td>\n",
       "      <td>20328.139089</td>\n",
       "    </tr>\n",
       "    <tr>\n",
       "      <th>113</th>\n",
       "      <td>14414.976562</td>\n",
       "      <td>26868.876512</td>\n",
       "      <td>20641.926537</td>\n",
       "    </tr>\n",
       "    <tr>\n",
       "      <th>114</th>\n",
       "      <td>12938.128056</td>\n",
       "      <td>29023.162790</td>\n",
       "      <td>20980.645423</td>\n",
       "    </tr>\n",
       "    <tr>\n",
       "      <th>115</th>\n",
       "      <td>11192.633974</td>\n",
       "      <td>31516.345476</td>\n",
       "      <td>21354.489725</td>\n",
       "    </tr>\n",
       "    <tr>\n",
       "      <th>116</th>\n",
       "      <td>9148.418292</td>\n",
       "      <td>34316.274690</td>\n",
       "      <td>21732.346491</td>\n",
       "    </tr>\n",
       "    <tr>\n",
       "      <th>117</th>\n",
       "      <td>6795.354539</td>\n",
       "      <td>37422.704926</td>\n",
       "      <td>22109.029733</td>\n",
       "    </tr>\n",
       "    <tr>\n",
       "      <th>118</th>\n",
       "      <td>4131.124241</td>\n",
       "      <td>40882.425432</td>\n",
       "      <td>22506.774836</td>\n",
       "    </tr>\n",
       "    <tr>\n",
       "      <th>119</th>\n",
       "      <td>1137.384325</td>\n",
       "      <td>44716.985111</td>\n",
       "      <td>22927.184718</td>\n",
       "    </tr>\n",
       "    <tr>\n",
       "      <th>120</th>\n",
       "      <td>-2205.831934</td>\n",
       "      <td>48918.781923</td>\n",
       "      <td>23356.474995</td>\n",
       "    </tr>\n",
       "    <tr>\n",
       "      <th>121</th>\n",
       "      <td>-5909.514498</td>\n",
       "      <td>53497.748358</td>\n",
       "      <td>23794.116930</td>\n",
       "    </tr>\n",
       "    <tr>\n",
       "      <th>122</th>\n",
       "      <td>-9981.397276</td>\n",
       "      <td>58480.987507</td>\n",
       "      <td>24249.795115</td>\n",
       "    </tr>\n",
       "    <tr>\n",
       "      <th>123</th>\n",
       "      <td>-14436.089406</td>\n",
       "      <td>63883.398198</td>\n",
       "      <td>24723.654396</td>\n",
       "    </tr>\n",
       "    <tr>\n",
       "      <th>124</th>\n",
       "      <td>-19289.683539</td>\n",
       "      <td>69708.676686</td>\n",
       "      <td>25209.496574</td>\n",
       "    </tr>\n",
       "    <tr>\n",
       "      <th>125</th>\n",
       "      <td>-24553.102588</td>\n",
       "      <td>75968.925824</td>\n",
       "      <td>25707.911618</td>\n",
       "    </tr>\n",
       "  </tbody>\n",
       "</table>\n",
       "</div>"
      ],
      "text/plain": [
       "     lower val_capacidadeinstalada  upper val_capacidadeinstalada  \\\n",
       "107                   18388.588190                   19274.703309   \n",
       "108                   18230.248445                   20050.378425   \n",
       "109                   17880.627650                   20886.379144   \n",
       "110                   17350.216837                   21957.671122   \n",
       "111                   16622.924004                   23367.354317   \n",
       "112                   15640.557643                   25015.720535   \n",
       "113                   14414.976562                   26868.876512   \n",
       "114                   12938.128056                   29023.162790   \n",
       "115                   11192.633974                   31516.345476   \n",
       "116                    9148.418292                   34316.274690   \n",
       "117                    6795.354539                   37422.704926   \n",
       "118                    4131.124241                   40882.425432   \n",
       "119                    1137.384325                   44716.985111   \n",
       "120                   -2205.831934                   48918.781923   \n",
       "121                   -5909.514498                   53497.748358   \n",
       "122                   -9981.397276                   58480.987507   \n",
       "123                  -14436.089406                   63883.398198   \n",
       "124                  -19289.683539                   69708.676686   \n",
       "125                  -24553.102588                   75968.925824   \n",
       "\n",
       "      Predictions  \n",
       "107  18831.645749  \n",
       "108  19140.313435  \n",
       "109  19383.503397  \n",
       "110  19653.943980  \n",
       "111  19995.139160  \n",
       "112  20328.139089  \n",
       "113  20641.926537  \n",
       "114  20980.645423  \n",
       "115  21354.489725  \n",
       "116  21732.346491  \n",
       "117  22109.029733  \n",
       "118  22506.774836  \n",
       "119  22927.184718  \n",
       "120  23356.474995  \n",
       "121  23794.116930  \n",
       "122  24249.795115  \n",
       "123  24723.654396  \n",
       "124  25209.496574  \n",
       "125  25707.911618  "
      ]
     },
     "execution_count": 79,
     "metadata": {},
     "output_type": "execute_result"
    }
   ],
   "source": [
    "y_pred_df"
   ]
  },
  {
   "cell_type": "code",
   "execution_count": 80,
   "id": "87473336",
   "metadata": {},
   "outputs": [
    {
     "data": {
      "image/png": "[encoded data removed]",
      "text/plain": [
       "<Figure size 864x432 with 1 Axes>"
      ]
     },
     "metadata": {
      "needs_background": "light"
     },
     "output_type": "display_data"
    }
   ],
   "source": [
    "plt.figure(figsize=(12,6))\n",
    "plt.plot(train.date, train.val_capacidadeinstalada, color = \"orange\")\n",
    "plt.plot(test.date, test.val_capacidadeinstalada, color = \"blue\")\n",
    "plt.plot(test.date, y_pred_out, color=\"red\", label = \"ARIMA Predictions\")\n",
    "plt.ylabel(\"Capacidade Instalada\")\n",
    "plt.xlabel(\"Date\")\n",
    "plt.title(\"Train/Test split for Capacidade Instalada/Date\")\n",
    "plt.show()"
   ]
  },
  {
   "cell_type": "code",
   "execution_count": 81,
   "id": "b950e999",
   "metadata": {},
   "outputs": [],
   "source": [
    "arma_rmse = np.sqrt(mean_squared_error(test[\"val_capacidadeinstalada\"].values, y_pred_df[\"Predictions\"]))"
   ]
  },
  {
   "cell_type": "code",
   "execution_count": 82,
   "id": "71603401",
   "metadata": {},
   "outputs": [
    {
     "data": {
      "text/plain": [
       "691.6277362754499"
      ]
     },
     "execution_count": 82,
     "metadata": {},
     "output_type": "execute_result"
    }
   ],
   "source": [
    "arma_rmse"
   ]
  },
  {
   "cell_type": "code",
   "execution_count": 52,
   "id": "77e38a84",
   "metadata": {},
   "outputs": [],
   "source": [
    "#______________"
   ]
  },
  {
   "cell_type": "code",
   "execution_count": null,
   "id": "9036c526",
   "metadata": {},
   "outputs": [],
   "source": []
  }
 ],
 "metadata": {
  "kernelspec": {
   "display_name": "Python 3 (ipykernel)",
   "language": "python",
   "name": "python3"
  },
  "language_info": {
   "codemirror_mode": {
    "name": "ipython",
    "version": 3
   },
   "file_extension": ".py",
   "mimetype": "text/x-python",
   "name": "python",
   "nbconvert_exporter": "python",
   "pygments_lexer": "ipython3",
   "version": "3.9.7"
  }
 },
 "nbformat": 4,
 "nbformat_minor": 5
}
